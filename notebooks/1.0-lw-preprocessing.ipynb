{
 "cells": [
  {
   "cell_type": "code",
   "execution_count": 66,
   "id": "2dc87b93-ecf2-4133-9243-a58318b7f47a",
   "metadata": {},
   "outputs": [],
   "source": [
    "import os, sys\n",
    "sys.path.append(os.path.dirname(os.path.abspath(os.getcwd())))\n",
    "\n",
    "import pickle\n",
    "from src.configuration.constants import INTERIM_DATA_DIRECTORY, PROCESSED_DATA_DIRECTORY\n",
    "\n",
    "from mlprimitives.custom.timeseries_preprocessing import time_segments_aggregate\n",
    "from sklearn.impute import SimpleImputer\n",
    "from sklearn.preprocessing import MinMaxScaler\n",
    "from mlprimitives.custom.timeseries_preprocessing import rolling_window_sequences\n",
    "from orion.primitives.timeseries_preprocessing import slice_array_by_dims\n",
    "from mlprimitives import load_primitive\n",
    "\n",
    "from orion import Orion"
   ]
  },
  {
   "cell_type": "code",
   "execution_count": 13,
   "id": "0900cf0f-3846-40e2-8cc3-049dee8932c5",
   "metadata": {},
   "outputs": [],
   "source": [
    "msl_filepath = os.path.join(INTERIM_DATA_DIRECTORY, 'MSL.pickle')\n",
    "\n",
    "with open(msl_filepath, 'rb') as f:\n",
    "    msl_dataset = pickle.load(f)"
   ]
  },
  {
   "cell_type": "code",
   "execution_count": 114,
   "id": "0ab110c3-d7f4-472d-8153-0c52fcfac742",
   "metadata": {},
   "outputs": [
    {
     "data": {
      "text/plain": [
       "(2209, 56)"
      ]
     },
     "execution_count": 114,
     "metadata": {},
     "output_type": "execute_result"
    }
   ],
   "source": [
    "train = msl_dataset['train']\n",
    "test = msl_dataset['test']\n",
    "anomaly = msl_dataset['anomaly']\n",
    "\n",
    "X_train = train[train.signal == 'M-1'].iloc[:, 4:]\n",
    "y_train = train[train.signal == 'M-1'].anomaly.values\n",
    "\n",
    "\n",
    "X_test = test[test.signal == 'M-1'].iloc[:, 4:]\n",
    "y_test = test[test.signal == 'M-1'].anomaly.values\n",
    "\n",
    "anomaly = anomaly[anomaly.signal == 'M-1']\n",
    "\n",
    "X_train.shape"
   ]
  },
  {
   "cell_type": "code",
   "execution_count": 115,
   "id": "43b9d62f-cbe2-46ed-88e6-e4ee7e9d1747",
   "metadata": {},
   "outputs": [
    {
     "data": {
      "text/plain": [
       "((2277, 55), (2277,))"
      ]
     },
     "execution_count": 115,
     "metadata": {},
     "output_type": "execute_result"
    }
   ],
   "source": [
    "# Creates an equi-spaced time series by aggregating values over fixed specified interval\n",
    "# Food for thought, we don't need to bin it by set intervals?\n",
    "\n",
    "params = {\n",
    "    \"time_column\": \"index\", \n",
    "    \"interval\": 1, \n",
    "    # \"interval\": interval,\n",
    "    \"method\": \"mean\"\n",
    "}\n",
    "primitive = load_primitive(\"mlprimitives.custom.timeseries_preprocessing.time_segments_aggregate\", arguments=params)\n",
    "X, index = primitive.produce(X=X_test)\n",
    "\n",
    "X.shape, index.shape"
   ]
  },
  {
   "cell_type": "code",
   "execution_count": 116,
   "id": "e11c52ea-6872-4ff6-8eba-db9bd36108f8",
   "metadata": {},
   "outputs": [
    {
     "data": {
      "text/plain": [
       "(2277, 55)"
      ]
     },
     "execution_count": 116,
     "metadata": {},
     "output_type": "execute_result"
    }
   ],
   "source": [
    "# This primitive is an imputation transformer for filling missing values\n",
    "params = {\n",
    "    'X': X\n",
    "}\n",
    "primitive = load_primitive('sklearn.impute.SimpleImputer', arguments=params)\n",
    "primitive.fit()\n",
    "X = primitive.produce(X=X)\n",
    "\n",
    "X.shape"
   ]
  },
  {
   "cell_type": "code",
   "execution_count": 117,
   "id": "72cd4c40-3d1a-466f-a25d-b3da2ce042ae",
   "metadata": {},
   "outputs": [
    {
     "data": {
      "text/plain": [
       "(2277, 55)"
      ]
     },
     "execution_count": 117,
     "metadata": {},
     "output_type": "execute_result"
    }
   ],
   "source": [
    "# This primitive transforms features by scaling each feature to a given range\n",
    "params = {\n",
    "    \"feature_range\": [-1, 1], \n",
    "    'X': X,\n",
    "}\n",
    "primitive = load_primitive('sklearn.preprocessing.MinMaxScaler', arguments=params)\n",
    "primitive.fit()\n",
    "X = primitive.produce(X=X)\n",
    "\n",
    "X.shape"
   ]
  },
  {
   "cell_type": "code",
   "execution_count": 118,
   "id": "b2622b84-4b31-4124-a0ed-ae8d2dff2451",
   "metadata": {},
   "outputs": [
    {
     "data": {
      "text/plain": [
       "((2177, 100, 55), (2177, 1), (2177,), (2177,))"
      ]
     },
     "execution_count": 118,
     "metadata": {},
     "output_type": "execute_result"
    }
   ],
   "source": [
    "# Uses a rolling window approach to create the sub-sequences out of time series data\n",
    "params = {\n",
    "    \"target_column\": 0, \n",
    "    \"window_size\": 100, \n",
    "    'target_size': 1, \n",
    "    'step_size': 1\n",
    "}\n",
    "primitive = load_primitive('mlprimitives.custom.timeseries_preprocessing.rolling_window_sequences',\n",
    "                           arguments=params)\n",
    "X, y, index, target_index = primitive.produce(X=X, index=index)\n",
    "\n",
    "\n",
    "# Target / target size is the next interval that is trying to predict.\n",
    "# Index is the start of the interval\n",
    "X.shape, y.shape, index.shape, target_index.shape"
   ]
  },
  {
   "cell_type": "code",
   "execution_count": 119,
   "id": "88321392-b4ab-405f-b10d-e53bbd92109b",
   "metadata": {},
   "outputs": [
    {
     "data": {
      "text/plain": [
       "((2177, 100, 55), (2177, 100, 1))"
      ]
     },
     "execution_count": 119,
     "metadata": {},
     "output_type": "execute_result"
    }
   ],
   "source": [
    "# Target\n",
    "params = {\n",
    "    \"target_index\": 0, \n",
    "    \"axis\": 2\n",
    "}\n",
    "primitive = load_primitive('orion.primitives.timeseries_preprocessing.slice_array_by_dims',\n",
    "                           arguments=params)\n",
    "y = primitive.produce(X=X)\n",
    "\n",
    "# Trying to predict the target sequence which is the first column of X\n",
    "X.shape, y.shape"
   ]
  },
  {
   "cell_type": "code",
   "execution_count": 120,
   "id": "fbfbd591-71da-4b85-af26-2e2555b92075",
   "metadata": {},
   "outputs": [],
   "source": [
    "output = {\n",
    "    'X_test': X,\n",
    "    'y_test': y,\n",
    "    'index_test': index,\n",
    "}"
   ]
  },
  {
   "cell_type": "code",
   "execution_count": 121,
   "id": "e0fdcceb-57e0-4bbe-a5a2-ada450ae6071",
   "metadata": {},
   "outputs": [],
   "source": [
    "msl_output_filepath = os.path.join(PROCESSED_DATA_DIRECTORY, 'MSL_test.pickle')\n",
    "\n",
    "with open(msl_output_filepath, 'wb') as f:\n",
    "    pickle.dump(output, f)"
   ]
  },
  {
   "cell_type": "code",
   "execution_count": null,
   "id": "75d8ffd3-3b49-4200-8121-6bde7e933a0a",
   "metadata": {},
   "outputs": [],
   "source": []
  }
 ],
 "metadata": {
  "kernelspec": {
   "display_name": "Python 3 (ipykernel)",
   "language": "python",
   "name": "python3"
  },
  "language_info": {
   "codemirror_mode": {
    "name": "ipython",
    "version": 3
   },
   "file_extension": ".py",
   "mimetype": "text/x-python",
   "name": "python",
   "nbconvert_exporter": "python",
   "pygments_lexer": "ipython3",
   "version": "3.7.11"
  }
 },
 "nbformat": 4,
 "nbformat_minor": 5
}
