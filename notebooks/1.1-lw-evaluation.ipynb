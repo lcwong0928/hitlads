{
 "cells": [
  {
   "cell_type": "code",
   "execution_count": 17,
   "id": "4dd179ff-661c-49af-9b75-033c9ecb2306",
   "metadata": {},
   "outputs": [],
   "source": [
    "import os, sys\n",
    "sys.path.append(os.path.dirname(os.path.abspath(os.getcwd())))\n",
    "from src.utils.dataset import load_dataset\n",
    "from src.models import TadGAN, AttentionTadGAN\n",
    "from src.dataset.interim_dataset import InterimDataset\n",
    "from src.dataset.interim.msl import MSLProcessor\n",
    "from mlprimitives import load_primitive\n",
    "from orion.evaluation.contextual import contextual_f1_score\n",
    "\n",
    "\n",
    "import numpy as np\n",
    "import logging\n",
    "import matplotlib.pyplot as plt"
   ]
  },
  {
   "cell_type": "code",
   "execution_count": null,
   "id": "76d896cd-7228-443e-b463-b59a4bb8ddd0",
   "metadata": {},
   "outputs": [],
   "source": [
    "source = 'NASA'\n",
    "dataset = 'MSL'\n",
    "signal = 'M-2'\n",
    "tadgan_model = TadGAN.load(source, dataset, signal)\n",
    "attention_tadgan_model = AttentionTadGAN.load(source, dataset, signal)"
   ]
  },
  {
   "cell_type": "code",
   "execution_count": null,
   "id": "1cdc1665-ad3c-48e4-9840-5dd83a766025",
   "metadata": {},
   "outputs": [],
   "source": [
    "fig, axs = plt.subplots(3, 4, figsize=(20, 10), sharey=False, sharex=True)\n",
    "\n",
    "tadgan_model.epoch_loss = np.array(tadgan_model.epoch_loss)\n",
    "attention_tadgan_model.epoch_loss = np.array(attention_tadgan_model.epoch_loss)\n",
    "epoch_loss_names = [\n",
    "    ['valid_x_wasserstein_loss', 'fake_x_wasserstein_loss', 'partial_gp_loss_x', 'weighted_loss'],\n",
    "    ['valid_z_wasserstein_loss', 'fake_z_wasserstein_loss', 'partial_gp_loss_z', 'weighted_loss'],\n",
    "    ['fake_gen_x_wasserstein_loss', 'fake_gen_z_wasserstein_loss', 'mse', 'weighted_loss'],\n",
    "]\n",
    "\n",
    "index = [i for i in range(tadgan_model.epoch_loss.shape[0])]\n",
    "for i in range(tadgan_model.epoch_loss.shape[1]):\n",
    "    for j in range(tadgan_model.epoch_loss.shape[2]):\n",
    "        axs[i][j].set_title(epoch_loss_names[i][j])\n",
    "        axs[i][j].plot(index, tadgan_model.epoch_loss[:, i, j], label='tadgan', color='b')\n",
    "        axs[i][j].plot(index, attention_tadgan_model.epoch_loss[:, i, j], label='attention_tadgan', color='r')\n",
    "\n",
    "fig.suptitle(f'[{source}] [{dataset}] [{signal}] Epoch losses', fontsize=16)\n",
    "handles, labels = axs[0][0].get_legend_handles_labels()\n",
    "fig.legend(handles, labels, loc='upper right')\n",
    "plt.show()"
   ]
  },
  {
   "cell_type": "code",
   "execution_count": null,
   "id": "b1666b8a-6060-4e86-8a22-55030fc47d08",
   "metadata": {},
   "outputs": [],
   "source": [
    "def get_anomalies(y_test, y_hat, critic, index_test):\n",
    "    params = {\"rec_error_type\": \"dtw\", \"comb\": \"mult\"}\n",
    "\n",
    "    primitive = load_primitive(\"orion.primitives.tadgan.score_anomalies\", \n",
    "                               arguments=params)\n",
    "    errors, true_index, true, predictions = primitive.produce(y=y_test, y_hat=y_hat, critic=critic, index=index_test)\n",
    "    \n",
    "    params = {\n",
    "    \"window_size_portion\": 0.33, \n",
    "    \"window_step_size_portion\": 0.1,\n",
    "    \"fixed_threshold\": True\n",
    "    }\n",
    "\n",
    "    primitive = load_primitive(\"orion.primitives.timeseries_anomalies.find_anomalies\", \n",
    "                               arguments=params)\n",
    "    predicted_anomalies = primitive.produce(errors=errors, index=true_index)\n",
    "    predicted_anomalies = [(int(anomaly[0]), int(anomaly[1])) for anomaly in predicted_anomalies]\n",
    "    return predicted_anomalies\n",
    "    "
   ]
  },
  {
   "cell_type": "code",
   "execution_count": null,
   "id": "aac08803-6c7f-4d25-a393-9121388eea45",
   "metadata": {},
   "outputs": [],
   "source": [
    "interim_dataset = InterimDataset.load(source, dataset, signal)\n",
    "processor = MSLProcessor(signal)\n",
    "\n",
    "X_train, y_train, index_train = processor.fit(interim_dataset.X_train, interim_dataset.index_train)\n",
    "X_train.shape, y_train.shape, index_train.shape\n",
    "\n",
    "X_test, y_test, index_test = processor.transform(interim_dataset.X_test, interim_dataset.index_test)\n",
    "X_test.shape, y_test.shape, index_test.shape"
   ]
  },
  {
   "cell_type": "code",
   "execution_count": null,
   "id": "e5ed28d3-b44c-4fa4-8929-9478057e10f5",
   "metadata": {},
   "outputs": [],
   "source": [
    "interim_dataset.anomalies_test.values"
   ]
  },
  {
   "cell_type": "code",
   "execution_count": null,
   "id": "031c633a-15fd-45db-a5ef-96e7429ac3c0",
   "metadata": {},
   "outputs": [],
   "source": [
    "print('Ground Truth', interim_dataset.anomalies_test.values)\n",
    "\n",
    "y_hat, critic = tadgan_model.predict(X_test, y_test)\n",
    "predicted_anomalies = get_anomalies(y_test, y_hat, critic, index_test)\n",
    "\n",
    "f1_score = contextual_f1_score(\n",
    "    interim_dataset.anomalies_test, \n",
    "    predicted_anomalies, \n",
    "    start=index_test[0], \n",
    "    end=index_test[-1], \n",
    "    weighted=True\n",
    ")\n",
    "print(tadgan_model.model_name, predicted_anomalies, f1_score)\n",
    "\n",
    "\n",
    "y_hat, critic = attention_tadgan_model.predict(X_test, y_test)\n",
    "predicted_anomalies = get_anomalies(y_test, y_hat, critic, index_test)\n",
    "\n",
    "f1_score = contextual_f1_score(\n",
    "    interim_dataset.anomalies_test, \n",
    "    predicted_anomalies, \n",
    "    start=index_test[0], \n",
    "    end=index_test[-1], \n",
    "    weighted=True\n",
    ")\n",
    "print(attention_tadgan_model.model_name, predicted_anomalies, f1_score)\n"
   ]
  },
  {
   "cell_type": "code",
   "execution_count": null,
   "id": "5ed30e65-adf0-4ba3-b7a2-4f9bbed3b509",
   "metadata": {},
   "outputs": [],
   "source": []
  }
 ],
 "metadata": {
  "kernelspec": {
   "display_name": "Python 3 (ipykernel)",
   "language": "python",
   "name": "python3"
  },
  "language_info": {
   "codemirror_mode": {
    "name": "ipython",
    "version": 3
   },
   "file_extension": ".py",
   "mimetype": "text/x-python",
   "name": "python",
   "nbconvert_exporter": "python",
   "pygments_lexer": "ipython3",
   "version": "3.7.11"
  }
 },
 "nbformat": 4,
 "nbformat_minor": 5
}
