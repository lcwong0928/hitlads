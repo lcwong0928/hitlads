{
 "cells": [
  {
   "cell_type": "code",
   "execution_count": 1,
   "metadata": {},
   "outputs": [],
   "source": [
    "import os, sys\n",
    "sys.path.append(os.path.dirname(os.path.abspath(os.getcwd())))\n",
    "\n",
    "from src.configuration.constants import PROCESSED_DATA_DIRECTORY, ROOT_DIRECTORY, INTERIM_DATA_DIRECTORY\n",
    "from src.processor import AnomalyDataset\n",
    "\n",
    "import logging\n",
    "import random\n",
    "import numpy as np\n",
    "import pickle\n",
    "from numpy import expand_dims, zeros, ones, asarray\n",
    "from numpy.random import randn, randint\n",
    "\n",
    "\n",
    "import matplotlib.pyplot as plt\n",
    "\n",
    "import tensorflow as tf\n",
    "from functools import partial\n",
    "from mlprimitives import load_primitive\n",
    "\n",
    "from tensorflow.keras.layers import *\n",
    "from tensorflow.keras.models import Model, Sequential\n",
    "from tensorflow.keras.optimizers import Adam\n",
    "from tensorflow.keras.utils import plot_model\n",
    "from tensorflow.keras import backend as K\n",
    "from orion.evaluation.contextual import contextual_f1_score, contextual_confusion_matrix\n",
    "import pandas as pd\n",
    "import random\n",
    "\n",
    "\n",
    "from mlprimitives import load_primitive\n",
    "\n",
    "logging.getLogger('tensorflow').setLevel(logging.ERROR)  # suppress warnings"
   ]
  },
  {
   "cell_type": "markdown",
   "metadata": {},
   "source": [
    "https://machinelearningmastery.com/semi-supervised-generative-adversarial-network/"
   ]
  },
  {
   "cell_type": "markdown",
   "metadata": {},
   "source": [
    "# Phase 0: Prepare dataset"
   ]
  },
  {
   "cell_type": "code",
   "execution_count": 2,
   "metadata": {},
   "outputs": [],
   "source": [
    "source = 'NASA'\n",
    "dataset = 'MSL'\n",
    "signal = 'T-8'\n",
    "\n",
    "anomaly_dataset = AnomalyDataset.load(source, dataset, signal)"
   ]
  },
  {
   "cell_type": "code",
   "execution_count": 3,
   "metadata": {},
   "outputs": [
    {
     "data": {
      "text/plain": [
       "((648, 100, 55), (648, 100, 1), (648,), (748,))"
      ]
     },
     "execution_count": 3,
     "metadata": {},
     "output_type": "execute_result"
    }
   ],
   "source": [
    "X_train, y_train, labels_train, index_train = anomaly_dataset.train.X_processed, anomaly_dataset.train.y_processed, anomaly_dataset.train.labels_processed, anomaly_dataset.train.index\n",
    "X_train.shape, y_train.shape, labels_train.shape, index_train.shape"
   ]
  },
  {
   "cell_type": "code",
   "execution_count": 4,
   "metadata": {},
   "outputs": [
    {
     "data": {
      "text/plain": [
       "((1419, 100, 55), (1419, 100, 1), (1419,), (1519,))"
      ]
     },
     "execution_count": 4,
     "metadata": {},
     "output_type": "execute_result"
    }
   ],
   "source": [
    "X_test, y_test, labels_test, index_test, anomalies_test = anomaly_dataset.test.X_processed, anomaly_dataset.test.y_processed, anomaly_dataset.test.labels_processed, anomaly_dataset.test.index, anomaly_dataset.test.anomalies\n",
    "X_test.shape, y_test.shape, labels_test.shape, index_test.shape"
   ]
  },
  {
   "cell_type": "markdown",
   "metadata": {},
   "source": [
    "# Phase 1: Semi-supervised GAN"
   ]
  },
  {
   "cell_type": "markdown",
   "metadata": {},
   "source": [
    "## Discriminator"
   ]
  },
  {
   "cell_type": "markdown",
   "metadata": {},
   "source": [
    "### Separate Discriminator Models With Shared Weights\n"
   ]
  },
  {
   "cell_type": "markdown",
   "metadata": {},
   "source": [
    "#### Encoder"
   ]
  },
  {
   "cell_type": "code",
   "execution_count": 5,
   "metadata": {},
   "outputs": [],
   "source": [
    "def build_encoder(input_shape, lstm_units, dense_units, encoder_reshape_shape):\n",
    "    x = Input(shape=input_shape)\n",
    "    model = Sequential()\n",
    "    model.add(Bidirectional(LSTM(units=lstm_units, return_sequences=True)))\n",
    "    model.add(Flatten())\n",
    "    model.add(Dense(units=dense_units))\n",
    "    model.add(Reshape(target_shape=encoder_reshape_shape))\n",
    "    return Model(x, model(x))"
   ]
  },
  {
   "cell_type": "markdown",
   "metadata": {},
   "source": [
    "#### Generator"
   ]
  },
  {
   "cell_type": "code",
   "execution_count": 6,
   "metadata": {},
   "outputs": [],
   "source": [
    "def build_generator(input_shape, generator_reshape_dim, generator_reshape_shape):\n",
    "    x = Input(shape=input_shape)\n",
    "    model = Sequential()\n",
    "    model.add(Flatten())\n",
    "    model.add(Dense(units=generator_reshape_dim))\n",
    "    model.add(Reshape(target_shape=generator_reshape_shape))\n",
    "    model.add(Bidirectional(LSTM(units=64, return_sequences=True, dropout=0.2, recurrent_dropout=0.2), merge_mode='concat'))\n",
    "    model.add(UpSampling1D(size=2))\n",
    "    model.add(Bidirectional(LSTM(units=64, return_sequences=True, dropout=0.2, recurrent_dropout=0.2), merge_mode='concat'))\n",
    "    model.add(TimeDistributed(Dense(units=1)))\n",
    "    model.add(Activation(activation='tanh'))\n",
    "    return Model(x, model(x))\n",
    "              "
   ]
  },
  {
   "cell_type": "markdown",
   "metadata": {},
   "source": [
    "#### Critic X"
   ]
  },
  {
   "cell_type": "code",
   "execution_count": 7,
   "metadata": {},
   "outputs": [],
   "source": [
    "def build_critic_x(input_shape, n_classes):\n",
    "    x = Input(shape=input_shape)\n",
    "    model = Sequential()\n",
    "    \n",
    "    for _ in range(4):\n",
    "        model.add(Conv1D(filters=64, kernel_size=5))\n",
    "        model.add(LeakyReLU(alpha=0.2))\n",
    "        model.add(Dropout(rate=0.25))\n",
    "    \n",
    "    model.add(Flatten())\n",
    "    \n",
    "    # Unsupervised model\n",
    "    unsup_out = Dense(units=1)(model(x))\n",
    "    d_unsup_model = Model(x, unsup_out)\n",
    "    \n",
    "    # Supervised model\n",
    "    sup_out = Dense(units=n_classes, activation='softmax')(model(x))\n",
    "    d_sup_model = Model(x, sup_out)\n",
    "    \n",
    "    return d_unsup_model, d_sup_model"
   ]
  },
  {
   "cell_type": "markdown",
   "metadata": {},
   "source": [
    "#### Critic Z"
   ]
  },
  {
   "cell_type": "code",
   "execution_count": 8,
   "metadata": {},
   "outputs": [],
   "source": [
    "def build_critic_z(input_shape, dense_units=20):\n",
    "    x = Input(shape=input_shape)\n",
    "    model = Sequential()\n",
    "    model.add(Flatten())\n",
    "    \n",
    "    for _ in range(2):\n",
    "        model.add(Dense(units=dense_units))\n",
    "        model.add(LeakyReLU(alpha=0.2))\n",
    "        model.add(Dropout(rate=0.2))\n",
    "        \n",
    "    model.add(Dense(units=1))\n",
    "    return Model(x, model(x))"
   ]
  },
  {
   "cell_type": "markdown",
   "metadata": {},
   "source": [
    "#### Hyper-parameters"
   ]
  },
  {
   "cell_type": "code",
   "execution_count": 9,
   "metadata": {},
   "outputs": [],
   "source": [
    "input_shape=X_test[0].shape\n",
    "target_shape=y_test[0].shape\n",
    "latent_dim=20\n",
    "learning_rate=0.0005\n",
    "epochs=70\n",
    "batch_size=64\n",
    "iterations_critic=5\n",
    "latent_shape = (latent_dim, 1)\n",
    "n_classes = 2\n",
    "\n",
    "shape = np.asarray(X_test)[0].shape\n",
    "length = shape[0]\n",
    "target_shape = np.asarray(y_test)[0].shape\n",
    "\n",
    "\n",
    "generator_reshape_dim = length // 2\n",
    "generator_reshape_shape = (length // 2, 1)\n",
    "encoder_reshape_shape = latent_shape\n",
    "\n",
    "encoder_input_shape = shape\n",
    "generator_input_shape = latent_shape\n",
    "critic_x_input_shape = target_shape\n",
    "critic_z_input_shape = latent_shape\n",
    "\n",
    "lstm_units = 100\n",
    "dense_units = 20\n",
    "\n",
    "optimizer = tf.keras.optimizers.Adam(learning_rate)"
   ]
  },
  {
   "cell_type": "code",
   "execution_count": 10,
   "metadata": {},
   "outputs": [],
   "source": [
    "encoder = build_encoder(\n",
    "    input_shape=encoder_input_shape,\n",
    "    lstm_units=lstm_units,\n",
    "    dense_units=dense_units,\n",
    "    encoder_reshape_shape=encoder_reshape_shape,\n",
    ")\n",
    "\n",
    "generator = build_generator(\n",
    "    input_shape=generator_input_shape,\n",
    "    generator_reshape_dim=generator_reshape_dim,\n",
    "    generator_reshape_shape=generator_reshape_shape,\n",
    ")\n",
    "\n",
    "critic_x_unsup, critic_x_sup = build_critic_x(\n",
    "    input_shape=critic_x_input_shape,\n",
    "    n_classes=n_classes\n",
    ")\n",
    "\n",
    "critic_z = build_critic_z(\n",
    "    input_shape=critic_z_input_shape,\n",
    ")"
   ]
  },
  {
   "cell_type": "code",
   "execution_count": 11,
   "metadata": {},
   "outputs": [],
   "source": [
    "def _wasserstein_loss(y_true, y_pred):\n",
    "    return K.mean(y_true * y_pred)\n",
    "\n",
    "def _gradient_penalty_loss(y_true, y_pred, averaged_samples):\n",
    "    gradients = K.gradients(y_pred, averaged_samples)[0]\n",
    "    gradients_sqr = K.square(gradients)\n",
    "    gradients_sqr_sum = K.sum(gradients_sqr, axis=np.arange(1, len(gradients_sqr.shape)))\n",
    "    gradient_l2_norm = K.sqrt(gradients_sqr_sum)\n",
    "    gradient_penalty = K.square(1 - gradient_l2_norm)\n",
    "    return K.mean(gradient_penalty)\n",
    "\n",
    "class RandomWeightedAverage(tf.keras.layers.Layer):\n",
    "    def __init__(self, batch_size=64):\n",
    "        super().__init__()\n",
    "        self.batch_size = batch_size\n",
    "\n",
    "    def call(self, inputs, **kwargs):\n",
    "        alpha = K.random_uniform((self.batch_size, 1, 1))\n",
    "        return (alpha * inputs[0]) + ((1 - alpha) * inputs[1])"
   ]
  },
  {
   "cell_type": "code",
   "execution_count": 12,
   "metadata": {},
   "outputs": [],
   "source": [
    "generator.trainable = False\n",
    "encoder.trainable = False\n",
    "\n",
    "x = Input(shape=input_shape)\n",
    "y = Input(shape=target_shape)\n",
    "z = Input(shape=(latent_dim, 1))\n",
    "\n",
    "x_ = generator(z)\n",
    "z_ = encoder(x)\n",
    "fake_x = critic_x_unsup(x_) # Fake\n",
    "valid_x = critic_x_unsup(y) # Truth\n",
    "\n",
    "label = critic_x_sup(y)"
   ]
  },
  {
   "cell_type": "markdown",
   "metadata": {},
   "source": [
    "#### Critic X Unsupervised Model"
   ]
  },
  {
   "cell_type": "code",
   "execution_count": 13,
   "metadata": {},
   "outputs": [
    {
     "name": "stdout",
     "output_type": "stream",
     "text": [
      "Model: \"model_5\"\n",
      "__________________________________________________________________________________________________\n",
      "Layer (type)                    Output Shape         Param #     Connected to                     \n",
      "==================================================================================================\n",
      "input_7 (InputLayer)            [(None, 20, 1)]      0                                            \n",
      "__________________________________________________________________________________________________\n",
      "input_6 (InputLayer)            [(None, 100, 1)]     0                                            \n",
      "__________________________________________________________________________________________________\n",
      "model_1 (Model)                 (None, 100, 1)       133787      input_7[0][0]                    \n",
      "__________________________________________________________________________________________________\n",
      "random_weighted_average (Random (64, 100, 1)         0           input_6[0][0]                    \n",
      "                                                                 model_1[1][0]                    \n",
      "__________________________________________________________________________________________________\n",
      "model_2 (Model)                 multiple             67393       model_1[1][0]                    \n",
      "                                                                 input_6[0][0]                    \n",
      "                                                                 random_weighted_average[0][0]    \n",
      "==================================================================================================\n",
      "Total params: 201,180\n",
      "Trainable params: 67,393\n",
      "Non-trainable params: 133,787\n",
      "__________________________________________________________________________________________________\n"
     ]
    }
   ],
   "source": [
    "interpolated_x = RandomWeightedAverage(batch_size)([y, x_])\n",
    "validity_interpolated_x = critic_x_unsup(interpolated_x)\n",
    "partial_gp_loss_x = partial(_gradient_penalty_loss, averaged_samples=interpolated_x)\n",
    "partial_gp_loss_x.__name__ = 'gradient_penalty'\n",
    "critic_x_unsup_model = Model(inputs=[y, z], outputs=[valid_x, fake_x,validity_interpolated_x])\n",
    "critic_x_unsup_model.compile(loss=[_wasserstein_loss, _wasserstein_loss, partial_gp_loss_x], \n",
    "                       optimizer=optimizer, loss_weights=[1, 1, 10])\n",
    "critic_x_unsup_model.summary()"
   ]
  },
  {
   "cell_type": "markdown",
   "metadata": {},
   "source": [
    "#### Critic X Supervised Model"
   ]
  },
  {
   "cell_type": "code",
   "execution_count": 14,
   "metadata": {},
   "outputs": [
    {
     "name": "stdout",
     "output_type": "stream",
     "text": [
      "Model: \"model_3\"\n",
      "_________________________________________________________________\n",
      "Layer (type)                 Output Shape              Param #   \n",
      "=================================================================\n",
      "input_3 (InputLayer)         [(None, 100, 1)]          0         \n",
      "_________________________________________________________________\n",
      "sequential_2 (Sequential)    multiple                  62016     \n",
      "_________________________________________________________________\n",
      "dense_4 (Dense)              (None, 2)                 10754     \n",
      "=================================================================\n",
      "Total params: 72,770\n",
      "Trainable params: 72,770\n",
      "Non-trainable params: 0\n",
      "_________________________________________________________________\n"
     ]
    }
   ],
   "source": [
    "critic_x_sup.compile(\n",
    "    loss='sparse_categorical_crossentropy',\n",
    "    optimizer=optimizer, \n",
    "    metrics=['accuracy'], # 'f1', 'precision', 'recall'\n",
    ")\n",
    "critic_x_sup_model = critic_x_sup\n",
    "critic_x_sup_model.summary()"
   ]
  },
  {
   "cell_type": "markdown",
   "metadata": {},
   "source": [
    "#### Critic Z Model"
   ]
  },
  {
   "cell_type": "code",
   "execution_count": 15,
   "metadata": {},
   "outputs": [
    {
     "name": "stdout",
     "output_type": "stream",
     "text": [
      "Model: \"model_6\"\n",
      "__________________________________________________________________________________________________\n",
      "Layer (type)                    Output Shape         Param #     Connected to                     \n",
      "==================================================================================================\n",
      "input_5 (InputLayer)            [(None, 100, 55)]    0                                            \n",
      "__________________________________________________________________________________________________\n",
      "input_7 (InputLayer)            [(None, 20, 1)]      0                                            \n",
      "__________________________________________________________________________________________________\n",
      "model (Model)                   (None, 20, 1)        524820      input_5[0][0]                    \n",
      "__________________________________________________________________________________________________\n",
      "random_weighted_average_1 (Rand (64, 20, 1)          0           input_7[0][0]                    \n",
      "                                                                 model[1][0]                      \n",
      "__________________________________________________________________________________________________\n",
      "model_4 (Model)                 multiple             861         model[1][0]                      \n",
      "                                                                 input_7[0][0]                    \n",
      "                                                                 random_weighted_average_1[0][0]  \n",
      "==================================================================================================\n",
      "Total params: 525,681\n",
      "Trainable params: 861\n",
      "Non-trainable params: 524,820\n",
      "__________________________________________________________________________________________________\n"
     ]
    }
   ],
   "source": [
    "fake_z = critic_z(z_)\n",
    "valid_z = critic_z(z)\n",
    "interpolated_z = RandomWeightedAverage()([z, z_])\n",
    "validity_interpolated_z = critic_z(interpolated_z)\n",
    "partial_gp_loss_z = partial(_gradient_penalty_loss, averaged_samples=interpolated_z)\n",
    "partial_gp_loss_z.__name__ = 'gradient_penalty'\n",
    "critic_z_model = tf.keras.Model(inputs=[x, z], outputs=[valid_z, fake_z,validity_interpolated_z])\n",
    "critic_z_model.compile(loss=[_wasserstein_loss, _wasserstein_loss,\n",
    "                                  partial_gp_loss_z], optimizer=optimizer,\n",
    "                            loss_weights=[1, 1, 10])\n",
    "critic_z_model.summary()"
   ]
  },
  {
   "cell_type": "markdown",
   "metadata": {},
   "source": [
    "#### Encoder Generator Model"
   ]
  },
  {
   "cell_type": "code",
   "execution_count": 16,
   "metadata": {},
   "outputs": [
    {
     "name": "stdout",
     "output_type": "stream",
     "text": [
      "Model: \"model_7\"\n",
      "__________________________________________________________________________________________________\n",
      "Layer (type)                    Output Shape         Param #     Connected to                     \n",
      "==================================================================================================\n",
      "input_8 (InputLayer)            [(None, 20, 1)]      0                                            \n",
      "__________________________________________________________________________________________________\n",
      "input_9 (InputLayer)            [(None, 100, 55)]    0                                            \n",
      "__________________________________________________________________________________________________\n",
      "model_1 (Model)                 (None, 100, 1)       133787      input_8[0][0]                    \n",
      "                                                                 model[2][0]                      \n",
      "__________________________________________________________________________________________________\n",
      "model (Model)                   (None, 20, 1)        524820      input_9[0][0]                    \n",
      "__________________________________________________________________________________________________\n",
      "model_2 (Model)                 multiple             67393       model_1[2][0]                    \n",
      "__________________________________________________________________________________________________\n",
      "model_4 (Model)                 multiple             861         model[2][0]                      \n",
      "==================================================================================================\n",
      "Total params: 726,861\n",
      "Trainable params: 658,607\n",
      "Non-trainable params: 68,254\n",
      "__________________________________________________________________________________________________\n"
     ]
    }
   ],
   "source": [
    "critic_x_sup.trainable = False\n",
    "critic_x_unsup.trainable = False\n",
    "critic_z.trainable = False\n",
    "generator.trainable = True\n",
    "encoder.trainable = True\n",
    "\n",
    "z_gen = Input(shape=(latent_dim, 1))\n",
    "x_gen_ = generator(z_gen)\n",
    "x_gen = Input(shape=input_shape)\n",
    "z_gen_ = encoder(x_gen)\n",
    "x_gen_rec = generator(z_gen_)\n",
    "fake_gen_x = critic_x_unsup(x_gen_)\n",
    "fake_gen_z = critic_z(z_gen_)\n",
    "\n",
    "encoder_generator_model = Model([x_gen, z_gen], [fake_gen_x, fake_gen_z, x_gen_rec])\n",
    "encoder_generator_model.compile(loss=[_wasserstein_loss, _wasserstein_loss,'mse'], \n",
    "                                optimizer=optimizer,\n",
    "                                loss_weights=[1, 1, 10])\n",
    "\n",
    "encoder_generator_model.summary()"
   ]
  },
  {
   "cell_type": "markdown",
   "metadata": {},
   "source": [
    "## Dataset Selection"
   ]
  },
  {
   "cell_type": "code",
   "execution_count": 17,
   "metadata": {},
   "outputs": [],
   "source": [
    "def split_supervised_samples(X, y, labels, limit=None):\n",
    "    labels = pd.Series(labels)\n",
    "    \n",
    "    sup_anomaly_index = labels[labels==1].index\n",
    "    if limit is not None:\n",
    "        sup_anomaly_index = random.choices(sup_anomaly_index, k=limit)\n",
    "        \n",
    "    sup_anomaly_samples = y[sup_anomaly_index]\n",
    "    num_anomaly_samples = len(sup_anomaly_samples)\n",
    "    \n",
    "    sup_non_anomaly_index = random.choices(labels[labels==0].index,  k=num_anomaly_samples)\n",
    "    sup_non_anomaly_samples = y[sup_non_anomaly_index]\n",
    "    \n",
    "    sup_samples = np.concatenate((sup_anomaly_samples, sup_non_anomaly_samples))\n",
    "    sup_labels = np.concatenate((np.ones(len(sup_anomaly_samples)), np.zeros(len(sup_non_anomaly_samples))))\n",
    "    \n",
    "    X_unsup = X[~np.isin(np.arange(len(X)), list(sup_anomaly_index) + list(sup_non_anomaly_index))]\n",
    "    y_unsup = y[~np.isin(np.arange(len(y)), list(sup_anomaly_index) + list(sup_non_anomaly_index))]\n",
    "    \n",
    "    return sup_samples, sup_labels, X_unsup, y_unsup"
   ]
  },
  {
   "cell_type": "code",
   "execution_count": 18,
   "metadata": {},
   "outputs": [],
   "source": [
    "def select_supervised_samples(n_samples, X, labels, n_classes):\n",
    "    \"\"\"Select a supervised subset of the dataset, ensures classes are balanced.\"\"\"\n",
    "    X_list, y_list = list(), list()\n",
    "    n_per_class = int(n_samples / n_classes)\n",
    "    for i in range(n_classes):\n",
    "        X_with_class = X[labels == i]\n",
    "        ix = randint(0, len(X_with_class), n_per_class)\n",
    "        [X_list.append(X_with_class[j]) for j in ix]\n",
    "        [y_list.append(i) for j in ix]\n",
    "    return asarray(X_list), asarray(y_list)\n",
    "\n",
    "def generate_real_samples(n_samples, X, labels):\n",
    "    \"\"\"Randomly select real samples.\"\"\"\n",
    "    ix = randint(0, X.shape[0], n_samples)\n",
    "    X, labels = X[ix], labels[ix]\n",
    "    y = ones((n_samples, 1))\n",
    "    return [X, labels], y\n",
    "\n",
    "def generate_latent_points(n_samples, latent_dim):\n",
    "    \"\"\"Generate points in latent space as input for the generator.\"\"\"\n",
    "    return np.random.normal(size=(n_samples, latent_dim, 1))\n",
    " \n",
    "def generate_fake_samples(n_samples, latent_dim, generator):\n",
    "    \"\"\"Generate n fake examples with class labels.\"\"\"\n",
    "    z = generate_latent_points(n_samples, latent_dim)\n",
    "    x_ = generator(z)\n",
    "    y = zeros((n_samples, 1))\n",
    "    return x_, y"
   ]
  },
  {
   "cell_type": "markdown",
   "metadata": {},
   "source": [
    "## Training"
   ]
  },
  {
   "cell_type": "code",
   "execution_count": 19,
   "metadata": {},
   "outputs": [],
   "source": [
    "from sklearn.model_selection import train_test_split"
   ]
  },
  {
   "cell_type": "code",
   "execution_count": 20,
   "metadata": {},
   "outputs": [
    {
     "data": {
      "text/plain": [
       "((150, 100, 1), (50, 100, 1), (150,), (50,), (1242, 100, 55), (1242, 100, 1))"
      ]
     },
     "execution_count": 20,
     "metadata": {},
     "output_type": "execute_result"
    }
   ],
   "source": [
    "enable_supervised = True\n",
    "num_samples = 100\n",
    "\n",
    "fake = np.ones((batch_size, 1))\n",
    "valid = -np.ones((batch_size, 1))\n",
    "delta = np.ones((batch_size, 1))\n",
    "\n",
    "X_sup, labels_sup, X_unsup, y_unsup = split_supervised_samples(X_test, y_test, labels_test, num_samples)\n",
    "X_sup_train, X_sup_val, labels_sup_train, labels_sup_val = train_test_split(X_sup, labels_sup, stratify=labels_sup)\n",
    "\n",
    "X_sup_train.shape, X_sup_val.shape, labels_sup_train.shape, labels_sup_val.shape, X_unsup.shape, y_unsup.shape"
   ]
  },
  {
   "cell_type": "code",
   "execution_count": 21,
   "metadata": {},
   "outputs": [
    {
     "name": "stderr",
     "output_type": "stream",
     "text": [
      "2022-02-01 20:14:20.902997: I tensorflow/core/platform/cpu_feature_guard.cc:142] Your CPU supports instructions that this TensorFlow binary was not compiled to use: AVX2 FMA\n",
      "2022-02-01 20:14:20.940025: I tensorflow/compiler/xla/service/service.cc:168] XLA service 0x7fe8c5f9ad00 initialized for platform Host (this does not guarantee that XLA will be used). Devices:\n",
      "2022-02-01 20:14:20.940052: I tensorflow/compiler/xla/service/service.cc:176]   StreamExecutor device (0): Host, Default Version\n"
     ]
    },
    {
     "name": "stdout",
     "output_type": "stream",
     "text": [
      "Epoch: 1/70, [Dx loss: [ 4.650427   -1.0975657   0.00884674  0.5739145 ]] [Dx_sup loss: [0.7028777  0.46       0.69511384 0.58      ]] [Dz loss: [ 1.3810084  -0.22445467  0.1618574   0.14436057]] [G loss: [ 9.756422   -0.02321387 -0.16450466  0.9944141 ]]\n",
      "Epoch: 2/70, [Dx loss: [ -7.4670057  -12.656346     0.27028742   0.4919053 ]] [Dx_sup loss: [0.679976  0.56      0.6956872 0.5      ]] [Dz loss: [ 1.9917488  -0.32771677  1.301069    0.10183966]] [G loss: [ 8.065378   -0.16127142 -1.3607268   0.9587377 ]]\n",
      "Epoch: 3/70, [Dx loss: [-8.658025   -9.633446    0.3295616   0.06458577]] [Dx_sup loss: [0.7000648  0.5466667  0.71395713 0.5       ]] [Dz loss: [ 3.7536473  -0.39904037  3.3740895   0.0778598 ]] [G loss: [ 5.2938037  -0.3153779  -2.8623843   0.84715664]]\n",
      "Epoch: 4/70, [Dx loss: [ -9.001259   -12.843104     1.0086093    0.28332362]] [Dx_sup loss: [0.73102784 0.52       0.7001117  0.5       ]] [Dz loss: [ 4.876334   -0.3132231   4.3550477   0.08345097]] [G loss: [ 1.883879  -0.9834337 -2.6600778  0.552739 ]]\n",
      "Epoch: 5/70, [Dx loss: [ -8.446207   -12.755742     2.7083712    0.16011639]] [Dx_sup loss: [0.73536074 0.52666664 0.6912897  0.6       ]] [Dz loss: [ 0.95912474 -0.25344792  0.17442536  0.10381474]] [G loss: [ 1.4496568  -2.8943257   2.2946618   0.20493206]]\n",
      "Epoch: 6/70, [Dx loss: [ -6.729412   -12.69734      4.9694953    0.09984328]] [Dx_sup loss: [0.8442801  0.49333334 0.78343636 0.5       ]] [Dz loss: [-8.102338   -0.16618773 -8.711535    0.07753857]] [G loss: [ 8.234645   -5.1783648  12.653444    0.07595654]]\n",
      "Epoch: 7/70, [Dx loss: [ -4.077269   -12.280981     7.7905188    0.04131938]] [Dx_sup loss: [0.8632592  0.50666666 0.72037387 0.5       ]] [Dz loss: [-13.18143     -0.15987651 -13.954828     0.0933273 ]] [G loss: [ 9.695553  -7.624073  16.808512   0.0511114]]\n",
      "Epoch: 8/70, [Dx loss: [-1.1619462e+00 -1.1122965e+01  9.9017086e+00  5.9309797e-03]] [Dx_sup loss: [0.7647084  0.52666664 0.7052391  0.5       ]] [Dz loss: [ -9.043257   -0.0857959 -10.794087    0.1836627]] [G loss: [ 4.1199083  -9.899002   13.603447    0.04154637]]\n",
      "Epoch: 9/70, [Dx loss: [-1.6293873e-01 -1.0647597e+01  1.0456816e+01  2.7842948e-03]] [Dx_sup loss: [0.7682905  0.49333334 0.70820534 0.5       ]] [Dz loss: [-2.7562966   0.02332467 -5.8638854   0.30842635]] [G loss: [ -2.7183213  -10.492916     7.393972     0.03806227]]\n",
      "Epoch: 10/70, [Dx loss: [-2.5878239e-01 -1.0834755e+01  1.0539263e+01  3.6709402e-03]] [Dx_sup loss: [0.7654154  0.53333336 0.69223535 0.5       ]] [Dz loss: [ 0.32717377  0.14319506 -1.8839842   0.20679629]] [G loss: [ -6.897131   -10.382226     3.06103      0.04240649]]\n",
      "Epoch: 11/70, [Dx loss: [ -0.51670045 -10.741571    10.074465     0.01504068]] [Dx_sup loss: [0.70065266 0.50666666 0.69304866 0.6       ]] [Dz loss: [1.9929473  0.14982569 0.31731167 0.152581  ]] [G loss: [-8.397642  -9.783512   0.9713541  0.0414517]]\n",
      "Epoch: 12/70, [Dx loss: [-0.65607697 -9.81107     8.754955    0.04000394]] [Dx_sup loss: [0.69975513 0.5933333  0.69368905 0.62      ]] [Dz loss: [2.9779563  0.12459324 1.5244061  0.1328957 ]] [G loss: [-9.266421   -8.447859   -1.1766328   0.03580707]]\n",
      "Epoch: 13/70, [Dx loss: [-0.7538275  -8.832686    7.691411    0.03874476]] [Dx_sup loss: [0.7364412  0.54       0.65341735 0.64      ]] [Dz loss: [3.7663865  0.1949459  2.06213    0.15093108]] [G loss: [-8.070596   -7.463947   -0.9654294   0.03587809]]\n",
      "Epoch: 14/70, [Dx loss: [-0.68822116 -6.5120974   5.2792597   0.05446158]] [Dx_sup loss: [0.6711036  0.6        0.62228274 0.76      ]] [Dz loss: [6.1497955  0.24655208 4.207225   0.16960184]] [G loss: [-6.5729513  -3.855423   -3.1447566   0.04272284]]\n",
      "Epoch: 15/70, [Dx loss: [-0.41914    -8.428877    7.466769    0.05429675]] [Dx_sup loss: [0.7007564 0.6       0.556452  0.82     ]] [Dz loss: [7.952483   0.22671375 6.63143    0.10943407]] [G loss: [-16.416882   -11.4703      -5.322478     0.03758962]]\n",
      "Epoch: 16/70, [Dx loss: [-1.6224308e-01 -1.2941157e+01  1.2715303e+01  6.3611669e-03]] [Dx_sup loss: [1.1706066 0.5133333 1.1410207 0.5      ]] [Dz loss: [10.5225315   0.25606355  9.169422    0.10970447]] [G loss: [-18.653168   -12.352797    -6.686007     0.03856367]]\n",
      "Epoch: 17/70, [Dx loss: [-4.0277424e-01 -1.2688403e+01  1.2237177e+01  4.8451694e-03]] [Dx_sup loss: [1.6596538 0.5       0.9010926 0.5      ]] [Dz loss: [13.237012    0.41621    11.7642      0.10566001]] [G loss: [-17.718506   -12.073612    -6.06516      0.04202647]]\n",
      "Epoch: 18/70, [Dx loss: [ -0.6073988  -12.900577    12.161571     0.01316066]] [Dx_sup loss: [0.7679172 0.5       0.7937642 0.5      ]] [Dz loss: [15.184271    0.48879147 13.259491    0.14359891]] [G loss: [-15.013397   -12.214773    -3.1915889    0.03929648]]\n",
      "Epoch: 19/70, [Dx loss: [ -0.69650286 -12.270074    11.170225     0.04033444]] [Dx_sup loss: [0.86117536 0.50666666 0.72840273 0.5       ]] [Dz loss: [-2.674771    0.54689753 -4.2621555   0.10404869]] [G loss: [  9.944534   -10.809025    20.33276      0.04207994]]\n",
      "Epoch: 20/70, [Dx loss: [ -0.7479848 -10.922892    9.695247    0.047966 ]] [Dx_sup loss: [0.754953   0.52666664 0.6734372  0.62      ]] [Dz loss: [-48.306145     0.6747288  -49.69034      0.07094681]] [G loss: [ 6.3135670e+01 -9.5041533e+00  7.2251648e+01  3.8817227e-02]]\n",
      "Epoch: 21/70, [Dx loss: [ -0.73673147 -10.700432     9.460995     0.05027047]] [Dx_sup loss: [0.67833334 0.58666664 0.7101266  0.52      ]] [Dz loss: [-78.76694      0.7890251  -80.58872      0.10327636]] [G loss: [ 9.0357124e+01 -9.3276014e+00  9.9317413e+01  3.6731236e-02]]\n",
      "Epoch: 22/70, [Dx loss: [-0.80171204 -9.880057    8.640039    0.04383059]] [Dx_sup loss: [0.68243146 0.58666664 0.673189   0.58      ]] [Dz loss: [-53.08781      0.95723754 -56.499462     0.24544144]] [G loss: [ 5.9615219e+01 -8.7055988e+00  6.7949539e+01  3.7127778e-02]]\n",
      "Epoch: 23/70, [Dx loss: [-0.76852447 -9.484846    8.174685    0.05416375]] [Dx_sup loss: [0.67669237 0.58666664 0.6333706  0.78      ]] [Dz loss: [-26.678925     1.0407014  -31.065186     0.33455586]] [G loss: [28.15328    -8.053729   35.832638    0.03743693]]\n",
      "Epoch: 24/70, [Dx loss: [-0.7916457  -9.001072    7.6677375   0.05416881]] [Dx_sup loss: [0.6403655  0.61333334 0.6231555  0.52      ]] [Dz loss: [ -7.017607     1.1411121  -11.134765     0.29760456]] [G loss: [ 5.533189  -7.493519  12.644005   0.0382703]]\n",
      "Epoch: 25/70, [Dx loss: [-0.4917267  -8.037715    7.0235085   0.05224803]] [Dx_sup loss: [0.6545758  0.6066667  0.63395447 0.5       ]] [Dz loss: [3.1610255  1.1499019  0.9161461  0.10949777]] [G loss: [-8.332142   -8.36953    -0.3441981   0.03815866]]\n",
      "Epoch: 26/70, [Dx loss: [-0.47075477 -9.181654    7.81157     0.08993287]] [Dx_sup loss: [0.7562998  0.52666664 0.61612326 0.64      ]] [Dz loss: [8.449637   1.2063644  6.3252516  0.09180208]] [G loss: [-11.407293   -5.9901953  -5.8417325   0.0424635]]\n",
      "Epoch: 27/70, [Dx loss: [-0.24298415 -6.525757    5.104441    0.11783316]] [Dx_sup loss: [0.6722082  0.62       0.67564356 0.52      ]] [Dz loss: [11.456608    1.1644381   9.31308     0.09790889]] [G loss: [-14.549131    -6.77743     -8.148776     0.03770745]]\n",
      "Epoch: 28/70, [Dx loss: [ -0.35168836 -10.802712    10.336447     0.01145768]] [Dx_sup loss: [0.6990549 0.58      0.6429178 0.78     ]] [Dz loss: [12.378979    1.0814359  10.446714    0.08508287]] [G loss: [-19.620184   -10.789582    -9.230909     0.04003081]]\n",
      "Epoch: 29/70, [Dx loss: [-1.6090527e-01 -1.1030719e+01  1.0815847e+01  5.3965375e-03]] [Dx_sup loss: [0.7013018  0.55333334 0.68757814 0.5       ]] [Dz loss: [12.601863    1.1397452  10.366219    0.10958993]] [G loss: [-16.785606   -10.462145    -6.723766     0.04003033]]\n",
      "Epoch: 30/70, [Dx loss: [-2.7654928e-01 -1.1093470e+01  1.0782089e+01  3.4830407e-03]] [Dx_sup loss: [0.75484216 0.52       0.67925036 0.46      ]] [Dz loss: [9.637812   1.1595209  7.4300013  0.10482905]] [G loss: [-13.546235   -10.76778     -3.1629205    0.03844664]]\n",
      "Epoch: 31/70, [Dx loss: [-4.4196072e-01 -1.1321519e+01  1.0821314e+01  5.8244867e-03]] [Dx_sup loss: [0.7684355  0.52666664 0.6780174  0.5       ]] [Dz loss: [-4.955109    1.2080071  -6.7771707   0.06140547]] [G loss: [  7.459662  -10.923197   18.000557    0.0382302]]\n",
      "Epoch: 32/70, [Dx loss: [ -0.6394958 -11.502322   10.679024    0.0183803]] [Dx_sup loss: [0.6872036  0.58666664 0.651559   0.66      ]] [Dz loss: [-28.850561     1.283261   -30.738918     0.06050954]] [G loss: [ 3.2592682e+01 -1.0601780e+01  4.2805519e+01  3.8894393e-02]]\n",
      "Epoch: 33/70, [Dx loss: [ -0.78064907 -10.797636     9.607694     0.04092947]] [Dx_sup loss: [0.6170173  0.62666667 0.6304415  0.8       ]] [Dz loss: [-36.161716     1.425214   -39.132805     0.15458737]] [G loss: [ 3.9070465e+01 -9.1245346e+00  4.7790565e+01  4.0443365e-02]]\n",
      "Epoch: 34/70, [Dx loss: [-0.7653961  -9.559549    8.237898    0.05562548]] [Dx_sup loss: [0.6527788 0.6666667 0.6149707 0.78     ]] [Dz loss: [-26.33022      1.5795727  -31.641443     0.37316534]] [G loss: [27.5262     -7.9851046  35.13922     0.03720827]]\n",
      "Epoch: 35/70, [Dx loss: [-0.803994   -8.238958    7.0353613   0.03996045]] [Dx_sup loss: [0.6303328  0.56666666 0.60766196 0.78      ]] [Dz loss: [-13.663389     1.6329925  -17.67527      0.23788884]] [G loss: [14.646928  -6.93644   21.237724   0.0345643]]\n",
      "Epoch: 36/70, [Dx loss: [-0.80080414 -7.607802    6.320451    0.04865476]] [Dx_sup loss: [0.6030998 0.6933333 0.5999548 0.78     ]] [Dz loss: [-5.218446    1.6314478  -8.775766    0.19258732]] [G loss: [ 5.513432   -5.7211857  10.864801    0.03698165]]\n",
      "Epoch: 37/70, [Dx loss: [-0.5954063  -6.5427523   5.253047    0.06942989]] [Dx_sup loss: [0.60054564 0.7266667  0.60322434 0.7       ]] [Dz loss: [-3.917989    1.6714952  -6.6660147   0.10765313]] [G loss: [ 2.5995636  -5.3591805   7.607785    0.03509588]]\n",
      "Epoch: 38/70, [Dx loss: [-0.3451901  -5.442195    4.5434394   0.05535651]] [Dx_sup loss: [0.5879283  0.68666667 0.60081977 0.76      ]] [Dz loss: [-6.2249336   1.7345413  -8.738681    0.07792069]] [G loss: [ 5.980502   -4.331687    9.923157    0.03890318]]\n",
      "Epoch: 39/70, [Dx loss: [-0.2734766  -7.0439157   5.533555    0.12368836]] [Dx_sup loss: [0.6054575 0.6533333 0.5880759 0.76     ]] [Dz loss: [ -8.294159     1.704716   -10.753585     0.07547106]] [G loss: [ 6.2160378  -5.689227   11.463154    0.04421107]]\n",
      "Epoch: 40/70, [Dx loss: [-0.26545864 -4.6285143   3.9280884   0.04349672]] [Dx_sup loss: [0.5760694 0.7266667 0.5979068 0.76     ]] [Dz loss: [ -8.827356     1.7023852  -11.347376     0.08176357]] [G loss: [ 8.80842    -3.3618855  11.772491    0.03978136]]\n",
      "Epoch: 41/70, [Dx loss: [-0.57122386 -4.1412635   3.214723    0.03553165]] [Dx_sup loss: [0.6065114 0.7       0.6031037 0.74     ]] [Dz loss: [ -7.6178765    1.7289807  -10.114458     0.07676012]] [G loss: [ 6.9896984  -3.3383958   9.940118    0.03879762]]\n",
      "Epoch: 42/70, [Dx loss: [-0.34937388 -4.501115    3.2702026   0.08815385]] [Dx_sup loss: [0.5615627  0.73333335 0.5619367  0.76      ]] [Dz loss: [-4.61988     1.6555843  -7.13078     0.08553161]] [G loss: [ 4.6381273  -3.1219459   7.3634253   0.03966476]]\n",
      "Epoch: 43/70, [Dx loss: [ 0.16708283 -3.3631337   2.5703025   0.09599135]] [Dx_sup loss: [0.5817495  0.73333335 0.5776567  0.76      ]] [Dz loss: [-2.1557508   1.6160511  -4.6423235   0.08705217]] [G loss: [ 3.135912   -2.2082384   4.954546    0.03896046]]\n",
      "Epoch: 44/70, [Dx loss: [ 0.33906102 -3.6564927   1.9096978   0.20858555]] [Dx_sup loss: [0.5517986 0.76      0.5492553 0.74     ]] [Dz loss: [ 0.21794713  1.7090228  -2.494001    0.10029254]] [G loss: [ 0.7422492  -2.194479    2.5532446   0.03834837]]\n",
      "Epoch: 45/70, [Dx loss: [ 0.02469566 -6.242507    5.439147    0.0828056 ]] [Dx_sup loss: [0.5154263  0.74666667 0.5241452  0.74      ]] [Dz loss: [ 0.91238517  1.6567736  -1.9071318   0.11627434]] [G loss: [-3.7593834  -6.3000765   2.1587148   0.03819781]]\n",
      "Epoch: 46/70, [Dx loss: [-0.08317627 -7.684279    7.450766    0.01503368]] [Dx_sup loss: [0.6566447  0.5733333  0.67260253 0.48      ]] [Dz loss: [ 1.1448426   1.7375761  -2.5106964   0.19179627]] [G loss: [-4.811092   -7.7307696   2.5707235   0.03489541]]\n",
      "Epoch: 47/70, [Dx loss: [-1.3962121e-01 -7.3707795e+00  7.1780181e+00  5.3139911e-03]] [Dx_sup loss: [0.67347133 0.5933333  0.68144274 0.74      ]] [Dz loss: [-0.01891074  1.6843402  -3.3938956   0.16906449]] [G loss: [-3.6873727  -7.381483    3.2996323   0.03944777]]\n",
      "Epoch: 48/70, [Dx loss: [-1.8697426e-01 -8.4127712e+00  8.1876240e+00  3.8172938e-03]] [Dx_sup loss: [0.7318884  0.50666666 0.6862768  0.48      ]] [Dz loss: [ 0.38539648  1.6461685  -2.5303252   0.1269553 ]] [G loss: [-5.1118336 -8.140622   2.6394765  0.0389312]]\n",
      "Epoch: 49/70, [Dx loss: [-2.8888151e-01 -8.4094820e+00  8.0818367e+00  3.8763254e-03]] [Dx_sup loss: [0.71669024 0.50666666 0.67164713 0.48      ]] [Dz loss: [ 1.1436131   1.6787713  -1.5553892   0.10202311]] [G loss: [-5.9514422  -8.197413    1.8267603   0.04192109]]\n",
      "Epoch: 50/70, [Dx loss: [-4.2423487e-01 -8.6584826e+00  8.1847095e+00  4.9539497e-03]] [Dx_sup loss: [0.6655961  0.62666667 0.6537506  0.7       ]] [Dz loss: [ 1.3452576   1.6313537  -1.1110395   0.08249433]] [G loss: [-6.7315226 -8.186039   1.0683444  0.0386172]]\n",
      "Epoch: 51/70, [Dx loss: [-0.6566144  -9.29985     8.528613    0.01146227]] [Dx_sup loss: [0.6334209  0.68666667 0.6385665  0.54      ]] [Dz loss: [ 0.98194     1.7086529  -1.6671076   0.09403946]] [G loss: [-6.1961927  -8.522743    1.8874872   0.04390629]]\n",
      "Epoch: 52/70, [Dx loss: [-0.7871357  -8.519739    7.4922476   0.02403581]] [Dx_sup loss: [0.6293593  0.58666664 0.6208815  0.76      ]] [Dz loss: [ 0.4668694   1.6307657  -2.1929345   0.10290383]] [G loss: [-4.400585   -7.17784     2.3938627   0.03833923]]\n",
      "Epoch: 53/70, [Dx loss: [-0.8312996  -7.360948    6.1333632   0.03962855]] [Dx_sup loss: [0.60940707 0.68666667 0.6021389  0.74      ]] [Dz loss: [ 0.02903562  1.5852168  -2.6241126   0.10679314]] [G loss: [-2.588276  -5.592552   2.6127722  0.0391504]]\n",
      "Epoch: 54/70, [Dx loss: [-0.6722077  -5.0298166   3.9048812   0.04527273]] [Dx_sup loss: [0.5739164  0.70666665 0.590865   0.76      ]] [Dz loss: [ 0.18056214  1.6407439  -2.3602726   0.09000908]] [G loss: [-0.7658897  -3.5692322   2.4171863   0.03861563]]\n",
      "Epoch: 55/70, [Dx loss: [-0.42131558 -4.9684057   3.423872    0.11232181]] [Dx_sup loss: [0.5611963  0.76666665 0.56712633 0.74      ]] [Dz loss: [ 0.2591035   1.623677   -2.2273562   0.08627827]] [G loss: [-1.1007307 -3.83317    2.3266635  0.0405776]]\n",
      "Epoch: 56/70, [Dx loss: [-0.37337083 -5.1342134   4.5171175   0.02437256]] [Dx_sup loss: [0.63331807 0.5733333  0.62694603 0.54      ]] [Dz loss: [ 0.47130233  1.5929953  -2.0603728   0.093868  ]] [G loss: [-1.9031827  -4.498556    2.202454    0.03929196]]\n",
      "Epoch: 57/70, [Dx loss: [-0.5305298  -4.606871    3.958609    0.01177318]] [Dx_sup loss: [0.74708325 0.50666666 0.648898   0.5       ]] [Dz loss: [ 0.63859004  1.5877008  -1.8779474   0.09288366]] [G loss: [-0.9913052  -3.4595468   2.0446155   0.04236262]]\n",
      "Epoch: 58/70, [Dx loss: [-0.74328035 -3.5570138   2.6208792   0.01928546]] [Dx_sup loss: [0.57508904 0.7133333  0.6074965  0.68      ]] [Dz loss: [ 1.0935721  1.6440359 -1.3757728  0.0825309]] [G loss: [-0.6467678  -2.431783    1.4303867   0.03546285]]\n",
      "Epoch: 59/70, [Dx loss: [-0.8042284  -3.3183303   2.0241694   0.04899321]] [Dx_sup loss: [0.5027122 0.7866667 0.5379521 0.68     ]] [Dz loss: [ 1.2872703   1.5929782  -1.1929148   0.08872069]] [G loss: [-0.3805598  -1.95967     1.1823143   0.03967959]]\n",
      "Epoch: 60/70, [Dx loss: [-0.77678996 -2.8177133   1.7833889   0.02575346]] [Dx_sup loss: [0.5129287  0.75333333 0.5237824  0.78      ]] [Dz loss: [ 1.3736707   1.5067871  -1.056554    0.09234377]] [G loss: [-0.19710356 -1.633054    1.0554535   0.0380497 ]]\n",
      "Epoch: 61/70, [Dx loss: [-0.6744453  -3.1589189   1.6592131   0.08252607]] [Dx_sup loss: [0.52152824 0.76666665 0.51476955 0.78      ]] [Dz loss: [ 1.6916565   1.4934494  -0.78481233  0.09830193]] [G loss: [-0.67289174 -1.8976855   0.8139049   0.0410889 ]]\n",
      "Epoch: 62/70, [Dx loss: [ 0.02359577 -4.3040667   3.3594403   0.09682216]] [Dx_sup loss: [0.50422305 0.73333335 0.49618953 0.76      ]] [Dz loss: [ 1.8725573   1.4807662  -0.4229526   0.08147436]] [G loss: [-2.8476534  -3.6724234   0.419954    0.04048161]]\n",
      "Epoch: 63/70, [Dx loss: [-0.20490237 -5.439647    4.9267464   0.03079981]] [Dx_sup loss: [0.5871573 0.68      0.5880452 0.76     ]] [Dz loss: [ 2.0285575   1.4866517  -0.34681717  0.08887232]] [G loss: [-4.7277946  -5.463307    0.3620223   0.03734896]]\n",
      "Epoch: 64/70, [Dx loss: [-0.48787624 -4.78698     4.0887594   0.02103445]] [Dx_sup loss: [0.592456  0.66      0.5868808 0.76     ]] [Dz loss: [ 1.8497069   1.4486845  -0.5204589   0.09214811]] [G loss: [-2.397264   -3.2970843   0.5144768   0.03853436]]\n",
      "Epoch: 65/70, [Dx loss: [-0.7182406 -3.841652   2.6352634  0.0488148]] [Dx_sup loss: [0.6044241  0.6333333  0.60757154 0.66      ]] [Dz loss: [ 1.8514693   1.4461086  -0.4669137   0.08722745]] [G loss: [-1.7355232  -2.6208024   0.4762836   0.04089955]]\n",
      "Epoch: 66/70, [Dx loss: [-0.65207    -4.023453    2.5478692   0.08235142]] [Dx_sup loss: [0.5145039 0.78      0.5382861 0.76     ]] [Dz loss: [ 1.9679054   1.4316275  -0.26785558  0.08041336]] [G loss: [-1.8229805  -2.5395498   0.29082885  0.04257404]]\n",
      "Epoch: 67/70, [Dx loss: [-0.640509   -3.2131095   2.4097557   0.01628449]] [Dx_sup loss: [0.5489131 0.74      0.5410221 0.78     ]] [Dz loss: [ 1.8875253   1.4370525  -0.31531364  0.07657866]] [G loss: [-1.4734881 -2.214225   0.329756   0.0410981]]\n",
      "Epoch: 68/70, [Dx loss: [-0.30029467 -2.7741487   1.7213329   0.0752521 ]] [Dx_sup loss: [0.5434679 0.74      0.5210998 0.76     ]] [Dz loss: [ 2.0481925   1.4779178  -0.25873667  0.08290114]] [G loss: [-1.0702577  -1.7636232   0.25738773  0.04359778]]\n",
      "Epoch: 69/70, [Dx loss: [ 0.46150994 -4.284375    2.6884398   0.20574453]] [Dx_sup loss: [0.49117437 0.75333333 0.49730653 0.76      ]] [Dz loss: [ 2.3247244   1.4343873  -0.04757338  0.09379105]] [G loss: [-2.8294392  -3.2836838   0.06835518  0.03858895]]\n",
      "Epoch: 70/70, [Dx loss: [ 0.37494987 -4.210144    3.7956676   0.07894259]] [Dx_sup loss: [0.62454927 0.53333336 0.592227   0.76      ]] [Dz loss: [ 2.356588    1.4518592  -0.03343681  0.09381653]] [G loss: [-3.8461838  -4.267162    0.05021017  0.03707676]]\n"
     ]
    }
   ],
   "source": [
    "epoch_loss = []\n",
    "indices = np.arange(X_train.shape[0])\n",
    "for epoch in range(1, epochs + 1):\n",
    "    np.random.shuffle(indices)\n",
    "    X_ = X_train[indices]\n",
    "    y_ = y_train[indices]\n",
    "\n",
    "    epoch_g_loss = []\n",
    "    epoch_cx_loss = []\n",
    "    epoch_cx_sup_loss = []\n",
    "    epoch_cz_loss = []\n",
    "\n",
    "    minibatches_size = batch_size * iterations_critic\n",
    "    num_minibatches = int(X_.shape[0] // minibatches_size)\n",
    "    \n",
    "    if enable_supervised:\n",
    "        # [X_sup_real, y_sup_real], _ = generate_real_samples(2 * num_samples, X_sup_train, labels_sup_train)\n",
    "        \n",
    "        sup_loss = critic_x_sup_model.train_on_batch(X_sup_train, labels_sup_train)\n",
    "        sup_val = critic_x_sup_model.test_on_batch(X_sup_val, labels_sup_val)\n",
    "        epoch_cx_sup_loss.append(\n",
    "            list(sup_loss) + list(sup_val)\n",
    "        )\n",
    "\n",
    "    for i in range(num_minibatches):\n",
    "        minibatch = X_[i * minibatches_size: (i + 1) * minibatches_size]\n",
    "        y_minibatch = y_[i * minibatches_size: (i + 1) * minibatches_size]\n",
    "    \n",
    "\n",
    "        for j in range(iterations_critic):\n",
    "            x = minibatch[j * batch_size: (j + 1) * batch_size]\n",
    "            y = y_minibatch[j * batch_size: (j + 1) * batch_size]\n",
    "            z = np.random.normal(size=(batch_size, latent_dim, 1))\n",
    "            \n",
    "            epoch_cx_loss.append(\n",
    "                critic_x_unsup_model.train_on_batch([y, z], [valid, fake, delta]))\n",
    "            epoch_cz_loss.append(\n",
    "                critic_z_model.train_on_batch([x, z], [valid, fake, delta]))\n",
    "\n",
    "        epoch_g_loss.append(\n",
    "            encoder_generator_model.train_on_batch([x, z], [valid, valid, y]))\n",
    "\n",
    "    cx_loss = np.mean(np.array(epoch_cx_loss), axis=0)\n",
    "    cx_sup_loss = np.mean(np.array(epoch_cx_sup_loss), axis=0)\n",
    "    cz_loss = np.mean(np.array(epoch_cz_loss), axis=0)\n",
    "    g_loss = np.mean(np.array(epoch_g_loss), axis=0)\n",
    "    epoch_loss.append([cx_loss, cx_sup_loss, cz_loss, g_loss])\n",
    "    \n",
    "    print('Epoch: {}/{}, [Dx loss: {}] [Dx_sup loss: {}] [Dz loss: {}] [G loss: {}]'.format(\n",
    "        epoch, epochs, cx_loss, cx_sup_loss, cz_loss, g_loss))"
   ]
  },
  {
   "cell_type": "code",
   "execution_count": 23,
   "metadata": {},
   "outputs": [],
   "source": [
    "def plot_losses(tadgan_loss, output_directory=None):\n",
    "    fig, axs = plt.subplots(4, 4, figsize=(20, 10), sharey=False, sharex=True)\n",
    "\n",
    "    epoch_loss_names = [\n",
    "        ['valid_x_wasserstein_loss', 'fake_x_wasserstein_loss', 'partial_gp_loss_x', 'weighted_loss'],\n",
    "        ['train_sparse_categorical_crossentropy_loss', 'train_accuracy', 'val_sparse_categorical_crossentropy_loss', 'val_accuracy'],\n",
    "        ['valid_z_wasserstein_loss', 'fake_z_wasserstein_loss', 'partial_gp_loss_z', 'weighted_loss'],\n",
    "        ['fake_gen_x_wasserstein_loss', 'fake_gen_z_wasserstein_loss', 'mse', 'weighted_loss'],\n",
    "    ]\n",
    "    \n",
    "    num_epoch, num_model, num_loss = tadgan_loss.shape\n",
    "\n",
    "    index = [epoch for epoch in range(num_epoch)]\n",
    "    for i in range(num_model):\n",
    "        for j in range(num_loss):\n",
    "            axs[i][j].set_title(epoch_loss_names[i][j])\n",
    "            axs[i][j].plot(index, tadgan_loss[:, i, j], label='tadgan', color='b')\n",
    "\n",
    "    fig.suptitle(f'[{source}] [{dataset}] [{signal}] Epoch losses', fontsize=16)\n",
    "    handles, labels = axs[0][0].get_legend_handles_labels()\n",
    "    fig.legend(handles, labels, loc='upper right')\n",
    "    # fig.savefig(os.path.join(output_directory, 'epoch_losses.png'))"
   ]
  },
  {
   "cell_type": "code",
   "execution_count": 24,
   "metadata": {},
   "outputs": [
    {
     "data": {
      "image/png": "[encoded data removed]",
      "text/plain": [
       "<Figure size 1440x720 with 16 Axes>"
      ]
     },
     "metadata": {
      "needs_background": "light"
     },
     "output_type": "display_data"
    }
   ],
   "source": [
    "plot_losses(np.array(epoch_loss))"
   ]
  },
  {
   "cell_type": "markdown",
   "metadata": {},
   "source": [
    "## Evaluation of unsupervised model"
   ]
  },
  {
   "cell_type": "code",
   "execution_count": 25,
   "metadata": {},
   "outputs": [
    {
     "data": {
      "text/plain": [
       "((1419, 20, 1), (1419, 100, 1), (1419, 1))"
      ]
     },
     "execution_count": 25,
     "metadata": {},
     "output_type": "execute_result"
    }
   ],
   "source": [
    "z_ = encoder.predict(X_test)\n",
    "y_hat = generator.predict(z_)\n",
    "critic = critic_x_unsup.predict(y_test)\n",
    "\n",
    "z_.shape, y_hat.shape, critic.shape"
   ]
  },
  {
   "cell_type": "code",
   "execution_count": 26,
   "metadata": {},
   "outputs": [
    {
     "name": "stderr",
     "output_type": "stream",
     "text": [
      "Using TensorFlow backend.\n"
     ]
    }
   ],
   "source": [
    "params = {\"rec_error_type\": \"dtw\", \"comb\": \"mult\"}\n",
    "\n",
    "primitive = load_primitive(\"orion.primitives.tadgan.score_anomalies\", \n",
    "                           arguments=params)\n",
    "errors, true_index, true, predictions = primitive.produce(y=y_test, y_hat=y_hat, critic=critic, index=index_test)"
   ]
  },
  {
   "cell_type": "code",
   "execution_count": 27,
   "metadata": {},
   "outputs": [],
   "source": [
    "params = {\n",
    "\"window_size_portion\": 0.33, \n",
    "\"window_step_size_portion\": 0.1,\n",
    "\"fixed_threshold\": True\n",
    "}\n",
    "\n",
    "primitive = load_primitive(\"orion.primitives.timeseries_anomalies.find_anomalies\", \n",
    "                           arguments=params)\n",
    "predicted_anomalies = primitive.produce(errors=errors, index=true_index)\n",
    "predicted_anomalies = [(int(anomaly[0]), int(anomaly[1])) for anomaly in predicted_anomalies]"
   ]
  },
  {
   "cell_type": "code",
   "execution_count": 28,
   "metadata": {},
   "outputs": [
    {
     "data": {
      "text/plain": [
       "(None, 3, 1, 1)"
      ]
     },
     "execution_count": 28,
     "metadata": {},
     "output_type": "execute_result"
    }
   ],
   "source": [
    "confusion_matrix = contextual_confusion_matrix(\n",
    "    anomalies_test, \n",
    "    predicted_anomalies, \n",
    "    start=list(index_test)[0], \n",
    "    end=list(index_test)[-1], \n",
    "    weighted=False\n",
    ")\n",
    "confusion_matrix"
   ]
  },
  {
   "cell_type": "markdown",
   "metadata": {},
   "source": [
    "# Phase 2: Query Strategies"
   ]
  },
  {
   "cell_type": "code",
   "execution_count": 193,
   "metadata": {},
   "outputs": [],
   "source": [
    "# What did the unsupervised GAN say was an anomaly?\n",
    "z_ = encoder.predict(X_train)\n",
    "y_hat = generator.predict(z_)\n",
    "critic = critic_x_unsup.predict(y_train)\n",
    "\n",
    "params = {\"rec_error_type\": \"dtw\"}\n",
    "\n",
    "primitive = load_primitive(\"orion.primitives.tadgan.score_anomalies\", arguments=params)\n",
    "errors, true_index, true, predictions = primitive.produce(y=y_train, y_hat=y_hat, critic=critic, index=index_train)\n",
    "\n",
    "params = {\n",
    "    \"window_size_portion\": 0.05, \n",
    "    \"window_step_size_portion\": 0.1,\n",
    "    \"fixed_threshold\": True\n",
    "}\n",
    "\n",
    "primitive = load_primitive(\"orion.primitives.timeseries_anomalies.find_anomalies\", \n",
    "                           arguments=params)\n",
    "e = primitive.produce(errors=errors, index=true_index)\n",
    "\n",
    "anomalies = [(int(i[0]), int(i[1])) for i in e]\n",
    "pp_samples = []\n",
    "\n",
    "for s, e in anomalies:\n",
    "    for i in range(s, e):\n",
    "        pp_samples.append(X_sup[i])"
   ]
  },
  {
   "cell_type": "code",
   "execution_count": 200,
   "metadata": {},
   "outputs": [
    {
     "data": {
      "text/plain": [
       "(0,)"
      ]
     },
     "execution_count": 200,
     "metadata": {},
     "output_type": "execute_result"
    }
   ],
   "source": [
    "pp_samples = pd.Series(pp_samples)\n",
    "pp_samples.shape"
   ]
  },
  {
   "cell_type": "code",
   "execution_count": 188,
   "metadata": {},
   "outputs": [],
   "source": [
    "# What did the supervised GAN get wrong?\n",
    "X_sup, labels_sup\n",
    "labels_sup = pd.Series(labels_sup)\n",
    "\n",
    "sup_predictions = critic_x_sup_model.predict(X_sup)\n",
    "\n",
    "idx = np.argmax(sup_predictions, axis=-1)\n",
    "sup_predictions = np.zeros( sup_predictions.shape )\n",
    "sup_predictions[ np.arange(sup_predictions.shape[0]), idx] = 1\n",
    "sup_predictions = [list(i).index(1.0) for i in sup_predictions]\n",
    "sup_predictions = pd.Series(sup_predictions)\n",
    "\n",
    "# False Positives\n",
    "fp = X_sup[(sup_predictions == 1) & (labels_sup == 0)]\n",
    "fn = X_sup[(sup_predictions == 0) & (labels_sup == 1)]\n"
   ]
  },
  {
   "cell_type": "code",
   "execution_count": 196,
   "metadata": {},
   "outputs": [
    {
     "data": {
      "text/plain": [
       "array([], shape=(0, 100, 1), dtype=float64)"
      ]
     },
     "execution_count": 196,
     "metadata": {},
     "output_type": "execute_result"
    }
   ],
   "source": [
    "fp"
   ]
  },
  {
   "cell_type": "code",
   "execution_count": 189,
   "metadata": {},
   "outputs": [],
   "source": [
    "# How should we explore datasets?\n",
    "\n",
    "exploration = X_train[np.random.choice([i for i in range(len(X_train))], 20)]"
   ]
  },
  {
   "cell_type": "code",
   "execution_count": 201,
   "metadata": {},
   "outputs": [
    {
     "data": {
      "text/plain": [
       "(26, 100, 1)"
      ]
     },
     "execution_count": 201,
     "metadata": {},
     "output_type": "execute_result"
    }
   ],
   "source": [
    "annotation_set = [\n",
    "    # pp_samples,\n",
    "    fp,\n",
    "    fn,\n",
    "    exploration\n",
    "]\n",
    "annotation_set = np.concatenate(annotation_set)\n",
    "annotation_set.shape"
   ]
  },
  {
   "cell_type": "markdown",
   "metadata": {},
   "source": [
    "# Phase 3: Annotation Strategy"
   ]
  },
  {
   "cell_type": "code",
   "execution_count": 204,
   "metadata": {},
   "outputs": [
    {
     "ename": "AttributeError",
     "evalue": "'numpy.ndarray' object has no attribute 'index'",
     "output_type": "error",
     "traceback": [
      "\u001b[0;31m---------------------------------------------------------------------------\u001b[0m",
      "\u001b[0;31mAttributeError\u001b[0m                            Traceback (most recent call last)",
      "\u001b[0;32m/var/folders/_5/f7yzqnxs6694l3c_yk9mjpzr0000gn/T/ipykernel_15886/1928229540.py\u001b[0m in \u001b[0;36m<module>\u001b[0;34m\u001b[0m\n\u001b[1;32m      1\u001b[0m \u001b[0;31m# How do we combine labels from different people?\u001b[0m\u001b[0;34m\u001b[0m\u001b[0;34m\u001b[0m\u001b[0;34m\u001b[0m\u001b[0m\n\u001b[1;32m      2\u001b[0m \u001b[0;34m\u001b[0m\u001b[0m\n\u001b[0;32m----> 3\u001b[0;31m \u001b[0mlabels\u001b[0m \u001b[0;34m=\u001b[0m \u001b[0mlabels_train\u001b[0m\u001b[0;34m(\u001b[0m\u001b[0mannotation_set\u001b[0m\u001b[0;34m.\u001b[0m\u001b[0mindex\u001b[0m\u001b[0;34m)\u001b[0m\u001b[0;34m\u001b[0m\u001b[0;34m\u001b[0m\u001b[0m\n\u001b[0m",
      "\u001b[0;31mAttributeError\u001b[0m: 'numpy.ndarray' object has no attribute 'index'"
     ]
    }
   ],
   "source": [
    "# How do we combine labels from different people?\n",
    "\n",
    "labels = labels_train(annotation_set.index)"
   ]
  },
  {
   "cell_type": "code",
   "execution_count": null,
   "metadata": {},
   "outputs": [],
   "source": []
  }
 ],
 "metadata": {
  "kernelspec": {
   "display_name": "Python 3 (ipykernel)",
   "language": "python",
   "name": "python3"
  },
  "language_info": {
   "codemirror_mode": {
    "name": "ipython",
    "version": 3
   },
   "file_extension": ".py",
   "mimetype": "text/x-python",
   "name": "python",
   "nbconvert_exporter": "python",
   "pygments_lexer": "ipython3",
   "version": "3.7.11"
  }
 },
 "nbformat": 4,
 "nbformat_minor": 4
}
