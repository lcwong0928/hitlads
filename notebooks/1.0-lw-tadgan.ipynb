{
 "cells": [
  {
   "cell_type": "code",
   "execution_count": 28,
   "id": "fae5f2a4-eea7-40de-9dc7-e3d5e59d6c4e",
   "metadata": {},
   "outputs": [],
   "source": [
    "import pandas as pd\n",
    "\n",
    "from orion.data import load_signal\n",
    "from orion import Orion\n",
    "from orion.data import load_anomalies\n",
    "\n",
    "from mlprimitives.custom.timeseries_preprocessing import time_segments_aggregate\n",
    "from sklearn.impute import SimpleImputer\n",
    "from sklearn.preprocessing import MinMaxScaler\n",
    "from mlprimitives.custom.timeseries_preprocessing import rolling_window_sequences\n",
    "from orion.primitives.timeseries_preprocessing import slice_array_by_dims\n",
    "from mlprimitives import load_primitive\n",
    "import numpy as np\n",
    "from orion.primitives.tadgan import TadGAN\n",
    "import tensorflow as tf\n",
    "import keras\n",
    "from keras.models import Model\n",
    "from keras import Input\n",
    "from functools import partial\n",
    "\n",
    "import logging\n",
    "import math\n",
    "import tempfile\n",
    "from functools import partial\n",
    "\n",
    "import keras\n",
    "import numpy as np\n",
    "import pandas as pd\n",
    "from keras import backend as K\n",
    "from keras.layers import Input\n",
    "from keras.layers.merge import _Merge\n",
    "from keras.models import Model\n",
    "from mlprimitives.adapters.keras import build_layer\n",
    "from mlprimitives.utils import import_object\n",
    "from scipy import stats\n"
   ]
  },
  {
   "cell_type": "markdown",
   "id": "f1075bac-a9ef-4668-ba31-e55e51ab1a57",
   "metadata": {},
   "source": [
    "# Orion Shortcut"
   ]
  },
  {
   "cell_type": "code",
   "execution_count": null,
   "id": "67342dd3-59b1-4afb-885f-8b2826f7a7eb",
   "metadata": {},
   "outputs": [],
   "source": [
    "# this is a reconstruction model, namely Generative Adversarial Networks (GAN)\n",
    "params = {\n",
    "    \"epochs\": 5, \n",
    "    \"input_shape\":[100, 25], \n",
    "    \"target_shape\": [100, 1]\n",
    "}\n",
    "\n",
    "primitive = load_primitive('orion.primitives.tadgan.TadGAN', \n",
    "                           arguments=params)\n",
    "primitive.fit(X=X, y=y)\n",
    "y_hat, critic = primitive.produce(X=X, y=y)"
   ]
  },
  {
   "cell_type": "code",
   "execution_count": 16,
   "id": "b2491294-360d-4629-8834-f2671c06da3b",
   "metadata": {},
   "outputs": [],
   "source": [
    "np.save('processed/tadgan/y_hat', y_hat)\n",
    "np.save('processed/tadgan/critic', critic)"
   ]
  },
  {
   "cell_type": "markdown",
   "id": "a904d0e0-33a3-44fd-8278-5f9fc2448e08",
   "metadata": {},
   "source": [
    "# Loading the dataset"
   ]
  },
  {
   "cell_type": "code",
   "execution_count": 82,
   "id": "e345169e-59fa-41fe-8bb9-1d67677e14b8",
   "metadata": {},
   "outputs": [
    {
     "data": {
      "text/plain": [
       "((2718, 100, 25), (64, 100, 1))"
      ]
     },
     "execution_count": 82,
     "metadata": {},
     "output_type": "execute_result"
    }
   ],
   "source": [
    "X = np.load('processed/data/X.npy')\n",
    "target = np.load('processed/data/y.npy')\n",
    "X.shape, y.shape"
   ]
  },
  {
   "cell_type": "markdown",
   "id": "eca5d01c-4038-46af-a892-2f45e3285886",
   "metadata": {},
   "source": [
    "# Hyperparameter"
   ]
  },
  {
   "cell_type": "code",
   "execution_count": 67,
   "id": "0dcb1d12-48ca-4287-a3ce-124d47b85eeb",
   "metadata": {},
   "outputs": [],
   "source": [
    "input_shape=(100, 25)\n",
    "target_shape=(100, 1)\n",
    "latent_dim=20\n",
    "learning_rate=0.0005\n",
    "epochs=70\n",
    "batch_size=64\n",
    "iterations_critic=5\n",
    "latent_shape = (latent_dim, 1)\n",
    "\n",
    "shape = np.asarray(X)[0].shape\n",
    "length = shape[0]\n",
    "target_shape = np.asarray(target)[0].shape\n",
    "\n",
    "\n",
    "generator_reshape_dim =  length // 2\n",
    "generator_reshape_shape = (length // 2, 1)\n",
    "encoder_reshape_shape = latent_shape\n",
    "\n",
    "encoder_input_shape = shape\n",
    "generator_input_shape = latent_shape\n",
    "critic_x_input_shape = target_shape\n",
    "critic_z_input_shape = latent_shape\n",
    "\n",
    "\n",
    "\n",
    "lstm_units = 100\n",
    "dense_units = 20"
   ]
  },
  {
   "cell_type": "markdown",
   "id": "b86e60f2-60e6-43de-8fc5-d07af06cb784",
   "metadata": {},
   "source": [
    "# Encoder"
   ]
  },
  {
   "cell_type": "code",
   "execution_count": 68,
   "id": "5049c5cf-d3d9-48b7-8583-1bbcb0e1d358",
   "metadata": {},
   "outputs": [
    {
     "name": "stdout",
     "output_type": "stream",
     "text": [
      "Model: \"model_31\"\n",
      "_________________________________________________________________\n",
      "Layer (type)                 Output Shape              Param #   \n",
      "=================================================================\n",
      "input_67 (InputLayer)        (None, 100, 25)           0         \n",
      "_________________________________________________________________\n",
      "sequential_18 (Sequential)   (None, 20, 1)             500820    \n",
      "=================================================================\n",
      "Total params: 500,820\n",
      "Trainable params: 500,820\n",
      "Non-trainable params: 0\n",
      "_________________________________________________________________\n"
     ]
    }
   ],
   "source": [
    "def build_encoder(input_shape, lstm_units, dense_units, encoder_reshape_shape):\n",
    "    x = Input(shape=input_shape)\n",
    "    model = keras.models.Sequential()\n",
    "    model.add(keras.layers.Bidirectional(keras.layers.LSTM(units=lstm_units, return_sequences=True)))\n",
    "    model.add(keras.layers.Flatten())\n",
    "    model.add(keras.layers.Dense(units=dense_units))\n",
    "    model.add(keras.layers.Reshape(target_shape=encoder_reshape_shape))\n",
    "    return Model(x, model(x))\n",
    "              \n",
    "encoder = build_encoder(\n",
    "    input_shape=encoder_input_shape,\n",
    "    lstm_units=lstm_units,\n",
    "    dense_units=dense_units,\n",
    "    encoder_reshape_shape=encoder_reshape_shape,\n",
    ")\n",
    "encoder.summary()"
   ]
  },
  {
   "cell_type": "markdown",
   "id": "94d48b1a-7355-487a-8303-8374194f8edb",
   "metadata": {},
   "source": [
    "# Generator"
   ]
  },
  {
   "cell_type": "code",
   "execution_count": 69,
   "id": "af4ea72b-3f04-4fb2-bfd1-d9aad4f8a0d3",
   "metadata": {},
   "outputs": [
    {
     "name": "stdout",
     "output_type": "stream",
     "text": [
      "Model: \"model_32\"\n",
      "_________________________________________________________________\n",
      "Layer (type)                 Output Shape              Param #   \n",
      "=================================================================\n",
      "input_68 (InputLayer)        (None, 20, 1)             0         \n",
      "_________________________________________________________________\n",
      "sequential_19 (Sequential)   (None, 100, 1)            133787    \n",
      "=================================================================\n",
      "Total params: 133,787\n",
      "Trainable params: 133,787\n",
      "Non-trainable params: 0\n",
      "_________________________________________________________________\n"
     ]
    }
   ],
   "source": [
    "def build_generator(input_shape, generator_reshape_dim, generator_reshape_shape):\n",
    "    x = Input(shape=input_shape)\n",
    "    model = keras.models.Sequential()\n",
    "    model.add(keras.layers.Flatten())\n",
    "    model.add(keras.layers.Dense(units=generator_reshape_dim))\n",
    "    model.add(keras.layers.Reshape(target_shape=generator_reshape_shape))\n",
    "    model.add(keras.layers.Bidirectional(keras.layers.LSTM(units=64, return_sequences=True, dropout=0.2, recurrent_dropout=0.2), merge_mode='concat'))\n",
    "    model.add(keras.layers.convolutional.UpSampling1D(size=2))\n",
    "    model.add(keras.layers.Bidirectional(keras.layers.LSTM(units=64, return_sequences=True, dropout=0.2, recurrent_dropout=0.2), merge_mode='concat'))\n",
    "    model.add(keras.layers.TimeDistributed(keras.layers.Dense(units=1)))\n",
    "    model.add(keras.layers.Activation(activation='tanh'))\n",
    "    return Model(x, model(x))\n",
    "              \n",
    "generator = build_generator(\n",
    "    input_shape=generator_input_shape,\n",
    "    generator_reshape_dim=generator_reshape_dim,\n",
    "    generator_reshape_shape=generator_reshape_shape,\n",
    ")\n",
    "generator.summary()"
   ]
  },
  {
   "cell_type": "markdown",
   "id": "b5b439a5-08ad-441f-a7f1-e3cd96966628",
   "metadata": {},
   "source": [
    "# Critic X"
   ]
  },
  {
   "cell_type": "code",
   "execution_count": 70,
   "id": "dbfec255-6bcd-4d48-83ff-0d7eb1968e9d",
   "metadata": {},
   "outputs": [
    {
     "name": "stdout",
     "output_type": "stream",
     "text": [
      "Model: \"model_33\"\n",
      "_________________________________________________________________\n",
      "Layer (type)                 Output Shape              Param #   \n",
      "=================================================================\n",
      "input_69 (InputLayer)        (None, 100, 1)            0         \n",
      "_________________________________________________________________\n",
      "sequential_20 (Sequential)   (None, 1)                 67393     \n",
      "=================================================================\n",
      "Total params: 67,393\n",
      "Trainable params: 67,393\n",
      "Non-trainable params: 0\n",
      "_________________________________________________________________\n"
     ]
    }
   ],
   "source": [
    "def build_critic_x(input_shape):\n",
    "    x = Input(shape=input_shape)\n",
    "    model = keras.models.Sequential()\n",
    "    model.add(keras.layers.Conv1D(filters=64, kernel_size=5))\n",
    "    model.add(keras.layers.advanced_activations.LeakyReLU(alpha=0.2))\n",
    "    model.add(keras.layers.Dropout(rate=0.25))\n",
    "    model.add(keras.layers.Conv1D(filters=64, kernel_size=5))\n",
    "    model.add(keras.layers.advanced_activations.LeakyReLU(alpha=0.2))\n",
    "    model.add(keras.layers.Dropout(rate=0.25))\n",
    "    model.add(keras.layers.Conv1D(filters=64, kernel_size=5))\n",
    "    model.add(keras.layers.advanced_activations.LeakyReLU(alpha=0.2))\n",
    "    model.add(keras.layers.Dropout(rate=0.25))\n",
    "    model.add(keras.layers.Conv1D(filters=64, kernel_size=5))\n",
    "    model.add(keras.layers.advanced_activations.LeakyReLU(alpha=0.2))\n",
    "    model.add(keras.layers.Dropout(rate=0.25))\n",
    "    model.add(keras.layers.Flatten())\n",
    "    model.add(keras.layers.Dense(units=1))\n",
    "    return Model(x, model(x))\n",
    "              \n",
    "critic_x = build_critic_x(\n",
    "    input_shape=critic_x_input_shape\n",
    ")\n",
    "critic_x.summary()"
   ]
  },
  {
   "cell_type": "markdown",
   "id": "b09ce11d-0907-4db1-85bd-a9c30863403e",
   "metadata": {},
   "source": [
    "# Critics Z"
   ]
  },
  {
   "cell_type": "code",
   "execution_count": 71,
   "id": "46fe5109-7bea-49e9-ae74-9b359f7332c5",
   "metadata": {},
   "outputs": [
    {
     "name": "stdout",
     "output_type": "stream",
     "text": [
      "Model: \"model_34\"\n",
      "_________________________________________________________________\n",
      "Layer (type)                 Output Shape              Param #   \n",
      "=================================================================\n",
      "input_70 (InputLayer)        (None, 20, 1)             0         \n",
      "_________________________________________________________________\n",
      "sequential_21 (Sequential)   (None, 1)                 861       \n",
      "=================================================================\n",
      "Total params: 861\n",
      "Trainable params: 861\n",
      "Non-trainable params: 0\n",
      "_________________________________________________________________\n"
     ]
    }
   ],
   "source": [
    "def build_critic_z(input_shape, dense_units=20):\n",
    "    x = Input(shape=input_shape)\n",
    "    model = keras.models.Sequential()\n",
    "    model.add(keras.layers.Flatten())\n",
    "    model.add(keras.layers.Dense(units=dense_units))\n",
    "    model.add(keras.layers.advanced_activations.LeakyReLU(alpha=0.2))\n",
    "    model.add(keras.layers.Dropout(rate=0.2))\n",
    "    model.add(keras.layers.Dense(units=dense_units))\n",
    "    model.add(keras.layers.advanced_activations.LeakyReLU(alpha=0.2))\n",
    "    model.add(keras.layers.Dropout(rate=0.2))\n",
    "    model.add(keras.layers.Dense(units=1))\n",
    "    return Model(x, model(x))\n",
    "              \n",
    "critic_z = build_critic_z(\n",
    "    input_shape=critic_z_input_shape,\n",
    ")\n",
    "critic_z.summary()"
   ]
  },
  {
   "cell_type": "code",
   "execution_count": 72,
   "id": "c19a3f1e-03eb-43c5-a4f1-95b2809b6613",
   "metadata": {},
   "outputs": [],
   "source": [
    "optimizer = keras.optimizers.Adam(learning_rate)"
   ]
  },
  {
   "cell_type": "markdown",
   "id": "d7f8d274-64d5-46b6-8627-bc0c427c1de5",
   "metadata": {},
   "source": [
    "# TadGAN"
   ]
  },
  {
   "cell_type": "code",
   "execution_count": 73,
   "id": "6d9929e3-ca93-4335-81fd-cfe9df5b6258",
   "metadata": {},
   "outputs": [],
   "source": [
    "class RandomWeightedAverage(_Merge):\n",
    "    def _merge_function(self, inputs):\n",
    "        \"\"\"\n",
    "        Args:\n",
    "            inputs[0] x     original input\n",
    "            inputs[1] x_    predicted input\n",
    "        \"\"\"\n",
    "        alpha = K.random_uniform((64, 1, 1))\n",
    "        return (alpha * inputs[0]) + ((1 - alpha) * inputs[1])\n",
    "\n",
    "def _wasserstein_loss(y_true, y_pred):\n",
    "    return K.mean(y_true * y_pred)\n",
    "\n",
    "def _gradient_penalty_loss(y_true, y_pred, averaged_samples):\n",
    "    gradients = K.gradients(y_pred, averaged_samples)[0]\n",
    "    gradients_sqr = K.square(gradients)\n",
    "    gradients_sqr_sum = K.sum(gradients_sqr, axis=np.arange(1, len(gradients_sqr.shape)))\n",
    "    gradient_l2_norm = K.sqrt(gradients_sqr_sum)\n",
    "    gradient_penalty = K.square(1 - gradient_l2_norm)\n",
    "    return K.mean(gradient_penalty)"
   ]
  },
  {
   "cell_type": "code",
   "execution_count": 74,
   "id": "9e52182e-b50b-4ead-b627-90424271077a",
   "metadata": {},
   "outputs": [],
   "source": [
    "generator.trainable = False\n",
    "encoder.trainable = False\n",
    "\n",
    "x = Input(shape=input_shape)\n",
    "y = Input(shape=target_shape)\n",
    "z = Input(shape=(latent_dim, 1))\n",
    "\n",
    "x_ = generator(z)\n",
    "z_ = encoder(x)\n",
    "fake_x = critic_x(x_) # Fake\n",
    "valid_x = critic_x(y) # Truth"
   ]
  },
  {
   "cell_type": "markdown",
   "id": "dfef9543-ade0-4a74-9a1d-a68e38ca5151",
   "metadata": {},
   "source": [
    "## Critic X"
   ]
  },
  {
   "cell_type": "code",
   "execution_count": 75,
   "id": "2f0e8135-9238-4fe1-8610-39fddc2b0c89",
   "metadata": {},
   "outputs": [],
   "source": [
    "interpolated_x = RandomWeightedAverage()([y, x_])\n",
    "validity_interpolated_x = critic_x(interpolated_x)\n",
    "partial_gp_loss_x = partial(_gradient_penalty_loss, averaged_samples=interpolated_x)\n",
    "partial_gp_loss_x.__name__ = 'gradient_penalty'\n",
    "critic_x_model = Model(inputs=[y, z], outputs=[valid_x, fake_x,validity_interpolated_x])\n",
    "critic_x_model.compile(loss=[_wasserstein_loss, _wasserstein_loss, partial_gp_loss_x], \n",
    "                       optimizer=optimizer, loss_weights=[1, 1, 10])"
   ]
  },
  {
   "cell_type": "markdown",
   "id": "80a65f75-ed26-49fa-9d3a-86393918f3b1",
   "metadata": {},
   "source": [
    "## Critic Z"
   ]
  },
  {
   "cell_type": "code",
   "execution_count": 76,
   "id": "7e6ece1f-2d7f-494e-9daf-ea5e8d80a4ac",
   "metadata": {},
   "outputs": [],
   "source": [
    "fake_z = critic_z(z_)\n",
    "valid_z = critic_z(z)\n",
    "interpolated_z = RandomWeightedAverage()([z, z_])\n",
    "validity_interpolated_z = critic_z(interpolated_z)\n",
    "partial_gp_loss_z = partial(_gradient_penalty_loss, averaged_samples=interpolated_z)\n",
    "partial_gp_loss_z.__name__ = 'gradient_penalty'\n",
    "critic_z_model = Model(inputs=[x, z], outputs=[valid_z, fake_z,validity_interpolated_z])\n",
    "critic_z_model.compile(loss=[_wasserstein_loss, _wasserstein_loss,\n",
    "                                  partial_gp_loss_z], optimizer=optimizer,\n",
    "                            loss_weights=[1, 1, 10])"
   ]
  },
  {
   "cell_type": "markdown",
   "id": "0a07ac94-4da5-45f8-859d-30d9ac40d706",
   "metadata": {},
   "source": [
    "## Encoder-Generator Model"
   ]
  },
  {
   "cell_type": "code",
   "execution_count": 77,
   "id": "588fe31a-ecf5-4969-9e6d-d03a8751c957",
   "metadata": {},
   "outputs": [],
   "source": [
    "critic_x.trainable = False\n",
    "critic_z.trainable = False\n",
    "generator.trainable = True\n",
    "encoder.trainable = True\n",
    "\n",
    "z_gen = Input(shape=(latent_dim, 1))\n",
    "x_gen_ = generator(z_gen)\n",
    "x_gen = Input(shape=input_shape)\n",
    "z_gen_ = encoder(x_gen)\n",
    "x_gen_rec = generator(z_gen_)\n",
    "fake_gen_x = critic_x(x_gen_)\n",
    "fake_gen_z = critic_z(z_gen_)\n",
    "\n",
    "encoder_generator_model = Model([x_gen, z_gen], [fake_gen_x, fake_gen_z, x_gen_rec])\n",
    "encoder_generator_model.compile(loss=[_wasserstein_loss, _wasserstein_loss,'mse'], \n",
    "                                optimizer=optimizer,\n",
    "                                loss_weights=[1, 1, 10])"
   ]
  },
  {
   "cell_type": "markdown",
   "id": "eddf2a2b-878b-4765-82a2-cb0dd05f0e04",
   "metadata": {},
   "source": [
    "# Training"
   ]
  },
  {
   "cell_type": "code",
   "execution_count": 81,
   "id": "3c5f037e-8f16-44fb-90ba-fb97a6f1c9fb",
   "metadata": {},
   "outputs": [
    {
     "name": "stdout",
     "output_type": "stream",
     "text": [
      "Epoch: 1/70, [Dx loss: [-6.4244094  -8.990245    1.4497118   0.11161248]] [Dz loss: [-1.5030787   0.00510997 -2.1871135   0.06789251]] [G loss: [31.949804  -1.1597579 28.382097   0.4727465]]\n",
      "Epoch: 2/70, [Dx loss: [-6.2216744  -8.056215    0.7942165   0.10403246]] [Dz loss: [-198.43172       0.8158039  -201.48816       0.22406058]] [G loss: [237.2679     -0.914989  233.7651      0.4417783]]\n",
      "Epoch: 3/70, [Dx loss: [-5.7019663  -9.756934    3.1240113   0.09309564]] [Dz loss: [-67.72063     1.305833  -79.132935    1.0106499]] [G loss: [97.81973    -3.1382203  96.72089     0.42370585]]\n",
      "Epoch: 4/70, [Dx loss: [-5.8628798  -9.339897    2.5638502   0.09131683]] [Dz loss: [39.571148    1.526362   36.12168     0.19231087]] [G loss: [-23.700974    -2.4634533  -25.509037     0.42715144]]\n",
      "Epoch: 5/70, [Dx loss: [-6.2293406  -9.699234    2.476926    0.09929674]] [Dz loss: [ -8.266696     1.6569145  -10.943901     0.10202897]] [G loss: [21.535471   -2.3860874  19.681488    0.42400715]]\n",
      "Epoch: 6/70, [Dx loss: [-5.971364   -8.775633    1.8901091   0.09141617]] [Dz loss: [ 1.9353615   1.7878225  -1.0046431   0.11521813]] [G loss: [ 7.0411367  -1.8742834   4.706312    0.42091084]]\n",
      "Epoch: 7/70, [Dx loss: [-5.9592185  -8.891288    2.0133421   0.09187271]] [Dz loss: [7.4928207  1.7519993  4.76307    0.09777527]] [G loss: [ 2.2869914  -1.9651567   0.07136583  0.41807824]]\n",
      "Epoch: 8/70, [Dx loss: [-5.814135   -8.366485    1.6483514   0.09040007]] [Dz loss: [-48.400764    1.6690565 -50.927464    0.0857641]] [G loss: [61.613914   -1.6178744  59.052258    0.41795343]]\n",
      "Epoch: 9/70, [Dx loss: [-5.684407   -7.6359253   1.0777205   0.08737984]] [Dz loss: [-136.09836       1.74438    -142.20224       0.43595308]] [G loss: [163.20908    -0.9951019 159.98341     0.4220777]]\n",
      "Epoch: 10/70, [Dx loss: [-5.689059  -7.4824514  0.933516   0.0859877]] [Dz loss: [-64.76661     2.093694  -75.70357     0.8843253]] [G loss: [82.53984    -1.0525931  79.304276    0.42881653]]\n",
      "Epoch: 11/70, [Dx loss: [-5.613459   -8.204272    1.7403494   0.08504653]] [Dz loss: [-38.841022     2.2293627  -42.45441      0.13840319]] [G loss: [53.68043    -1.6863174  51.137844    0.42289078]]\n",
      "Epoch: 12/70, [Dx loss: [-5.567879   -7.5588417   1.1849579   0.08060051]] [Dz loss: [-119.20089      2.709792  -134.49756      1.2586906]] [G loss: [146.13797     -1.1317778  143.06648      0.42032564]]\n",
      "Epoch: 13/70, [Dx loss: [-5.336494   -6.853779    0.7544211   0.07628632]] [Dz loss: [-47.475304    3.0659795 -61.08628     1.0544986]] [G loss: [67.11943    -0.6462709  63.542873    0.42228281]]\n",
      "Epoch: 14/70, [Dx loss: [-5.0765815  -5.6590757  -0.15332153  0.0735816 ]] [Dz loss: [-49.58969     3.2971978 -63.120613    1.0233725]] [G loss: [69.33912     0.12680793 64.9333      0.42790076]]\n",
      "Epoch: 15/70, [Dx loss: [-4.720582   -5.496781    0.09965762  0.06765416]] [Dz loss: [-37.370888    3.4136815 -57.249958    1.6465381]] [G loss: [63.79483    -0.19153526 59.66893     0.431743  ]]\n",
      "Epoch: 16/70, [Dx loss: [-4.7565866  -6.514182    1.0783889   0.06792064]] [Dz loss: [ -3.225668    3.5097325 -23.571331    1.6835934]] [G loss: [28.159456   -0.87521267 24.533787    0.4500885 ]]\n",
      "Epoch: 17/70, [Dx loss: [-4.970426   -9.008896    3.3218837   0.07165855]] [Dz loss: [  4.336997    3.3008895 -10.985066    1.2021176]] [G loss: [11.783398   -3.3383403  10.77811     0.43436292]]\n",
      "Epoch: 18/70, [Dx loss: [-4.7765136  -4.8486953  -0.5824065   0.06545874]] [Dz loss: [ 1.9775156  3.252016  -5.599282   0.4324781]] [G loss: [10.787093    0.81219745  5.524825    0.445007  ]]\n",
      "Epoch: 19/70, [Dx loss: [-4.6332946  -7.294459    2.0923502   0.05688136]] [Dz loss: [ 1.5276076  3.0847466 -4.969613   0.3412475]] [G loss: [ 7.491053   -1.8753585   4.9253855   0.44410262]]\n",
      "Epoch: 20/70, [Dx loss: [-4.665343   -4.5720186  -0.69691795  0.06035933]] [Dz loss: [ 3.0454326   2.9367843  -3.5009713   0.36096197]] [G loss: [8.816495   0.73505795 3.6427982  0.44386384]]\n",
      "Epoch: 21/70, [Dx loss: [-4.526529  -4.6475964 -0.438193   0.055926 ]] [Dz loss: [ 3.747068    2.8290353  -1.9433702   0.28614032]] [G loss: [7.1818542  0.51362073 2.0482545  0.46199787]]\n",
      "Epoch: 22/70, [Dx loss: [-4.391024   -3.9327056  -1.0105401   0.05522221]] [Dz loss: [ 5.187411    2.7417243  -0.7746097   0.32202965]] [G loss: [6.5360365  0.93507504 0.8654164  0.4735545 ]]\n",
      "Epoch: 23/70, [Dx loss: [-3.954153   -4.028901   -0.4383536   0.05131012]] [Dz loss: [ 4.5756207  2.6201324 -1.1239978  0.3079485]] [G loss: [6.2157726  0.4698891  1.261637   0.44842458]]\n",
      "Epoch: 24/70, [Dx loss: [-3.3596497  -4.3263035   0.5731362   0.03935172]] [Dz loss: [ 3.3334556   2.556918   -1.7092454   0.24857828]] [G loss: [ 5.830113   -0.42381907  1.7575324   0.44963995]]\n",
      "Epoch: 25/70, [Dx loss: [-3.1728673  -5.0471544   1.5111922   0.03630947]] [Dz loss: [ 2.8988671   2.5378063  -2.6789532   0.30400136]] [G loss: [ 5.8037357  -1.3976271   2.7634485   0.44379145]]\n",
      "Epoch: 26/70, [Dx loss: [-3.2775302  -4.1104403   0.45818296  0.03747271]] [Dz loss: [ 1.3454278   2.5330298  -4.222227    0.30346254]] [G loss: [ 8.761144   -0.2969393   4.4912286   0.45668542]]\n",
      "Epoch: 27/70, [Dx loss: [-3.1536403  -5.3164425   1.8189135   0.03438884]] [Dz loss: [ 0.05349422  2.5511453  -4.9713354   0.24736845]] [G loss: [ 7.491866  -2.0864918  5.098545   0.4479814]]\n",
      "Epoch: 28/70, [Dx loss: [-2.9844375  -4.471111    1.1858222   0.03008504]] [Dz loss: [ 1.0516609   2.587132   -4.0949974   0.25595266]] [G loss: [ 7.7513475  -0.95004576  4.115792    0.45856008]]\n",
      "Epoch: 29/70, [Dx loss: [-2.9594135  -4.4293995   1.1521218   0.03178633]] [Dz loss: [ 2.6174653  2.5596535 -2.5454738  0.2603285]] [G loss: [ 6.4833965 -1.2189559  2.644386   0.5057966]]\n",
      "Epoch: 30/70, [Dx loss: [-3.0928245 -2.0897572 -1.3689015  0.0365834]] [Dz loss: [ 2.7546446   2.543549   -1.8087124   0.20198078]] [G loss: [8.381947   1.6546248  1.8611871  0.48661354]]\n",
      "Epoch: 31/70, [Dx loss: [-3.530646   -2.8691735  -1.1115297   0.04500568]] [Dz loss: [ 2.8753173   2.455213   -1.4077055   0.18278095]] [G loss: [7.3290553 1.2314872 1.4331344 0.4664433]]\n",
      "Epoch: 32/70, [Dx loss: [-3.3539329  -0.7429705  -2.9942172   0.03832547]] [Dz loss: [ 3.0106344   2.4352555  -0.97142565  0.15468046]] [G loss: [8.755037   3.1302927  1.0066229  0.46181226]]\n",
      "Epoch: 33/70, [Dx loss: [-3.295913   -0.3105603  -3.3660617   0.03807088]] [Dz loss: [ 3.1353078   2.3449588  -0.69467294  0.14850226]] [G loss: [8.779165   3.433851   0.71213067 0.46331838]]\n",
      "Epoch: 34/70, [Dx loss: [-3.2973354  -0.06107421 -3.6249332   0.03886723]] [Dz loss: [ 3.1985266   2.2515376  -0.5770551   0.15240443]] [G loss: [8.650772   3.5959694  0.5803856  0.44744167]]\n",
      "Epoch: 35/70, [Dx loss: [-2.984877   -0.7694054  -2.5250762   0.03096045]] [Dz loss: [ 3.052077   2.1369498 -0.542822   0.1457949]] [G loss: [7.853549   2.5122879  0.56187636 0.47793847]]\n",
      "Epoch: 36/70, [Dx loss: [-3.2080112  -2.7056901  -0.87242997  0.03701088]] [Dz loss: [ 2.53001     2.082333   -0.9293213   0.13769987]] [G loss: [6.193774   0.6274162  0.94768006 0.46186778]]\n",
      "Epoch: 37/70, [Dx loss: [-3.0654974  -3.248745   -0.11550122  0.02987495]] [Dz loss: [ 1.8476398   2.035041   -1.3916819   0.12042807]] [G loss: [6.414767   0.4086616  1.452211   0.45538938]]\n",
      "Epoch: 38/70, [Dx loss: [-3.413573   -1.8261217  -1.9452003   0.03577488]] [Dz loss: [ 1.6078936   2.000983   -1.588629    0.11955391]] [G loss: [8.168377   1.996687   1.64963    0.45220593]]\n",
      "Epoch: 39/70, [Dx loss: [-3.2381039  -2.1759756  -1.3971717   0.03350436]] [Dz loss: [ 1.2095793   1.9250332  -1.8648822   0.11494279]] [G loss: [7.6812735  1.2325249  1.9153382  0.45334107]]\n",
      "Epoch: 40/70, [Dx loss: [-3.1380153  -4.3977365   0.93707293  0.03226484]] [Dz loss: [ 1.1235831   1.9041237  -1.9126174   0.11320768]] [G loss: [ 5.525376   -0.97197837  1.9955378   0.45018163]]\n",
      "Epoch: 41/70, [Dx loss: [-2.6314173  -3.7204852   0.8077326   0.02813347]] [Dz loss: [ 1.3544838   1.921716   -1.8914496   0.13242175]] [G loss: [ 5.8858137  -0.6983884   1.9765509   0.46076512]]\n",
      "Epoch: 42/70, [Dx loss: [-2.5812452  -1.9574087  -0.9234314   0.02995948]] [Dz loss: [ 2.120332    1.9496572  -1.2290103   0.13996847]] [G loss: [7.345993   1.1283306  1.2331387  0.49845234]]\n",
      "Epoch: 43/70, [Dx loss: [-2.9142842  -2.2671561  -0.9732553   0.03261266]] [Dz loss: [ 2.0776522   1.94706    -0.92822343  0.10588162]] [G loss: [6.770567   1.0160953  0.98090506 0.47735667]]\n",
      "Epoch: 44/70, [Dx loss: [-3.0438108  -2.422464   -0.94529426  0.03239474]] [Dz loss: [ 1.4778954   1.9451269  -1.3229196   0.08556875]] [G loss: [6.8595176  0.9196342  1.4142791  0.45256045]]\n",
      "Epoch: 45/70, [Dx loss: [-3.146687   -3.546168    0.0544015   0.03450799]] [Dz loss: [ 0.8076762   1.996352   -1.9591253   0.07704497]] [G loss: [ 6.354111   -0.15816677  1.9611107   0.4551168 ]]\n",
      "Epoch: 46/70, [Dx loss: [-3.139426   -3.5467613   0.06164145  0.03456943]] [Dz loss: [ 0.02845498  2.0182483  -2.683311    0.06935178]] [G loss: [7.3082294  0.0277155  2.7204287  0.45600852]]\n",
      "Epoch: 47/70, [Dx loss: [-2.925825   -3.5998166   0.3708424   0.03031495]] [Dz loss: [-0.19455318  2.126848   -2.999553    0.06781515]] [G loss: [ 7.1009517  -0.44467884  3.012985    0.45326453]]\n",
      "Epoch: 48/70, [Dx loss: [-2.6333158  -3.139947    0.23581931  0.02708124]] [Dz loss: [-0.02469913  2.1569967  -2.8686903   0.06869945]] [G loss: [ 7.3045034  -0.18157223  2.9490461   0.45370296]]\n",
      "Epoch: 49/70, [Dx loss: [-2.4759698  -4.0152845   1.2890022   0.02503128]] [Dz loss: [ 0.49566668  2.1560435  -2.3077102   0.06473331]] [G loss: [ 5.666631   -1.4574109   2.4316912   0.46923506]]\n",
      "Epoch: 50/70, [Dx loss: [-2.5091715  -4.7585096   1.9621131   0.02872256]] [Dz loss: [-0.51870537  2.1865244  -3.360817    0.06555869]] [G loss: [ 5.9913573 -1.8450311  3.4024045  0.4433984]]\n",
      "Epoch: 51/70, [Dx loss: [-2.5699093 -3.9053693  1.0655563  0.0269904]] [Dz loss: [-1.2820491   2.2168903  -4.118955    0.06200152]] [G loss: [ 7.7115154  -0.96908617  4.2568254   0.4423776 ]]\n",
      "Epoch: 52/70, [Dx loss: [-2.6256325  -3.0175004   0.10102006  0.0290847 ]] [Dz loss: [-1.0411594   2.2900693  -3.924152    0.05929233]] [G loss: [8.496358   0.03004806 4.039713   0.4426597 ]]\n",
      "Epoch: 53/70, [Dx loss: [-2.6425667  -2.4401393  -0.48952493  0.02870972]] [Dz loss: [ 0.02941517  2.301066   -2.917765    0.06461139]] [G loss: [7.830095   0.44128877 2.9683886  0.44204178]]\n",
      "Epoch: 54/70, [Dx loss: [-2.5479484  -3.2888381   0.46807283  0.02728176]] [Dz loss: [ 0.55416644  2.3143198  -2.400947    0.06407936]] [G loss: [ 6.539809   -0.45143154  2.525007    0.44662347]]\n",
      "Epoch: 55/70, [Dx loss: [-2.5621383  -3.2666614   0.42885298  0.02756702]] [Dz loss: [ 0.22812286  2.3125787  -2.6309726   0.05465172]] [G loss: [ 6.772384   -0.42842162  2.7128563   0.44879496]]\n",
      "Epoch: 56/70, [Dx loss: [-3.3041458  -3.0296116  -0.6902158   0.04156816]] [Dz loss: [ 0.1311561   2.3038373  -2.690243    0.05175612]] [G loss: [8.043839  0.8237084 2.8456686 0.4374462]]\n",
      "Epoch: 57/70, [Dx loss: [-4.1734195  -1.8276201  -2.924315    0.05785144]] [Dz loss: [-0.05609443  2.361777   -2.9250805   0.05072086]] [G loss: [10.409757   2.9679832  3.1079233  0.433385 ]]\n",
      "Epoch: 58/70, [Dx loss: [-3.4341896  -2.746922   -1.1123047   0.04250366]] [Dz loss: [-0.29496223  2.3754814  -3.1392467   0.04688025]] [G loss: [8.725646   1.0961913  3.2860003  0.43434545]]\n",
      "Epoch: 59/70, [Dx loss: [-3.5907962  -2.9677138  -1.0703291   0.04472471]] [Dz loss: [-0.25324395  2.4120991  -3.1842253   0.05188821]] [G loss: [8.755509   1.0787191  3.25958    0.44172108]]\n",
      "Epoch: 60/70, [Dx loss: [-3.0456352  -2.5259392  -0.8504839   0.03307883]] [Dz loss: [-0.06947558  2.3637447  -2.9554548   0.05222341]] [G loss: [8.565762   0.94601107 3.113661   0.4506089 ]]\n",
      "Epoch: 61/70, [Dx loss: [-2.5714571  -1.6506774  -1.1850843   0.02643048]] [Dz loss: [ 0.41867766  2.372697   -2.543983    0.05899634]] [G loss: [8.128458  1.0978736 2.5731401 0.4457445]]\n",
      "Epoch: 62/70, [Dx loss: [-2.244078   -3.134601    0.6576482   0.02328744]] [Dz loss: [ 0.65251005  2.3869455  -2.2276783   0.04932427]] [G loss: [ 6.2450805  -0.6512705   2.3295739   0.45667765]]\n",
      "Epoch: 63/70, [Dx loss: [-2.012406   -3.8302941   1.5971485   0.02207404]] [Dz loss: [ 0.9063964   2.3599806  -1.982914    0.05293301]] [G loss: [ 5.0675097 -1.5628601  2.095867   0.4534503]]\n",
      "Epoch: 64/70, [Dx loss: [-2.2934732  -3.3564105   0.8078828   0.02550545]] [Dz loss: [ 1.3775953   2.3499475  -1.55386     0.05815078]] [G loss: [ 5.5725465 -0.7254068  1.5907575  0.4707196]]\n",
      "Epoch: 65/70, [Dx loss: [-2.3134046  -3.4134438   0.8483785   0.02516611]] [Dz loss: [-1.7889935   2.232023   -4.6381674   0.06171508]] [G loss: [ 8.906572   -0.89316136  4.725616    0.50741184]]\n",
      "Epoch: 66/70, [Dx loss: [-2.4647887  -3.5375702   0.7761099   0.02966727]] [Dz loss: [-38.863926     2.4298713  -44.569904     0.32761025]] [G loss: [50.894943   -0.6918784  47.131454    0.44553646]]\n",
      "Epoch: 67/70, [Dx loss: [-2.6682816  -3.547427    0.5489323   0.03302132]] [Dz loss: [ -95.15312     3.071667 -128.55537     3.033057]] [G loss: [140.95943     -0.54451615 137.12946      0.43744874]]\n",
      "Epoch: 68/70, [Dx loss: [-2.6195014  -3.5575492   0.60005003  0.03379977]] [Dz loss: [ -78.12966      3.4439723 -140.3342       5.876052 ]] [G loss: [146.45578     -0.54756576 142.56264      0.4440713 ]]\n",
      "Epoch: 69/70, [Dx loss: [-2.6105874  -3.813612    0.88981915  0.03132052]] [Dz loss: [-44.684216    3.2154965 -84.667435    3.6767724]] [G loss: [88.093056   -0.8841114  84.573616    0.44035494]]\n",
      "Epoch: 70/70, [Dx loss: [-2.6234796  -3.5801768   0.6387183   0.03179795]] [Dz loss: [-29.089396    3.0630307 -53.275776    2.112336 ]] [G loss: [56.95636    -0.5619172  53.07556     0.44427115]]\n"
     ]
    }
   ],
   "source": [
    "fake = np.ones((batch_size, 1))\n",
    "valid = -np.ones((batch_size, 1))\n",
    "delta = np.ones((batch_size, 1))\n",
    "\n",
    "indices = np.arange(X.shape[0])\n",
    "for epoch in range(1, epochs + 1):\n",
    "    np.random.shuffle(indices)\n",
    "    X_ = X[indices]\n",
    "    y_ = target[indices]\n",
    "\n",
    "    epoch_g_loss = []\n",
    "    epoch_cx_loss = []\n",
    "    epoch_cz_loss = []\n",
    "\n",
    "    minibatches_size = batch_size * iterations_critic\n",
    "    num_minibatches = int(X_.shape[0] // minibatches_size)\n",
    "\n",
    "    for i in range(num_minibatches):\n",
    "        minibatch = X_[i * minibatches_size: (i + 1) * minibatches_size]\n",
    "        y_minibatch = y_[i * minibatches_size: (i + 1) * minibatches_size]\n",
    "\n",
    "        for j in range(iterations_critic):\n",
    "            x = minibatch[j * batch_size: (j + 1) * batch_size]\n",
    "            y = y_minibatch[j * batch_size: (j + 1) * batch_size]\n",
    "            z = np.random.normal(size=(batch_size, latent_dim, 1))\n",
    "            epoch_cx_loss.append(\n",
    "                critic_x_model.train_on_batch([y, z], [valid, fake, delta]))\n",
    "            epoch_cz_loss.append(\n",
    "                critic_z_model.train_on_batch([x, z], [valid, fake, delta]))\n",
    "\n",
    "        epoch_g_loss.append(\n",
    "            encoder_generator_model.train_on_batch([x, z], [valid, valid, y]))\n",
    "\n",
    "    cx_loss = np.mean(np.array(epoch_cx_loss), axis=0)\n",
    "    cz_loss = np.mean(np.array(epoch_cz_loss), axis=0)\n",
    "    g_loss = np.mean(np.array(epoch_g_loss), axis=0)\n",
    "    print('Epoch: {}/{}, [Dx loss: {}] [Dz loss: {}] [G loss: {}]'.format(\n",
    "        epoch, epochs, cx_loss, cz_loss, g_loss))"
   ]
  },
  {
   "cell_type": "markdown",
   "id": "912357a5-8e31-4944-92d2-a32c6d6ffbcf",
   "metadata": {},
   "source": [
    "# Inference"
   ]
  },
  {
   "cell_type": "code",
   "execution_count": 91,
   "id": "1679a0fe-dce6-41ed-861d-54e8d92d3b38",
   "metadata": {},
   "outputs": [],
   "source": [
    "def predict(X, y=None):\n",
    "    \"\"\"Predict values using the initialized object.\n",
    "\n",
    "    Args:\n",
    "        X (ndarray):\n",
    "            N-dimensional array containing the input sequences for the model.\n",
    "        y (ndarray):\n",
    "            N-dimensional array containing the target sequences we want to reconstruct.\n",
    "\n",
    "    Returns:\n",
    "        ndarray:\n",
    "            N-dimensional array containing the reconstructions for each input sequence.\n",
    "        ndarray:\n",
    "            N-dimensional array containing the critic scores for each input sequence.\n",
    "    \"\"\"\n",
    "    if y is None:\n",
    "        y = X.copy()  # reconstruct the same input\n",
    "\n",
    "    z_ = encoder.predict(X)\n",
    "    y_hat = generator.predict(z_)\n",
    "    critic = critic_x.predict(y)\n",
    "\n",
    "    return y_hat, critic"
   ]
  },
  {
   "cell_type": "code",
   "execution_count": 93,
   "id": "2130c76b-7e3b-4f4f-b197-0c51e51c2aab",
   "metadata": {},
   "outputs": [],
   "source": [
    "y_hat, critic = predict(X, target)"
   ]
  },
  {
   "cell_type": "code",
   "execution_count": 95,
   "id": "76831444-a9b1-455a-b97d-58d4314754d0",
   "metadata": {},
   "outputs": [],
   "source": [
    "np.save('processed/tadgan/y_hat', y_hat)\n",
    "np.save('processed/tadgan/critic', critic)"
   ]
  },
  {
   "cell_type": "code",
   "execution_count": null,
   "id": "3e0ca052-acd3-4f8f-80ed-a37d33628307",
   "metadata": {},
   "outputs": [],
   "source": []
  }
 ],
 "metadata": {
  "kernelspec": {
   "display_name": "Python 3 (ipykernel)",
   "language": "python",
   "name": "python3"
  },
  "language_info": {
   "codemirror_mode": {
    "name": "ipython",
    "version": 3
   },
   "file_extension": ".py",
   "mimetype": "text/x-python",
   "name": "python",
   "nbconvert_exporter": "python",
   "pygments_lexer": "ipython3",
   "version": "3.7.11"
  }
 },
 "nbformat": 4,
 "nbformat_minor": 5
}
