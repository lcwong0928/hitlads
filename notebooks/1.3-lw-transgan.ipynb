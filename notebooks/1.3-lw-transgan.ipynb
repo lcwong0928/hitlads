{
 "cells": [
  {
   "cell_type": "code",
   "execution_count": 18,
   "id": "0ae112aa-175e-4af5-9a19-74aebac7aac8",
   "metadata": {},
   "outputs": [],
   "source": [
    "import os, sys\n",
    "sys.path.append(os.path.dirname(os.path.abspath(os.getcwd())))\n",
    "from src.models import TadGAN, AttentionTadGAN\n",
    "from src.processor import AnomalyDataset\n",
    "from src.configuration.constants import MODELS_DIRECTORY\n",
    "from tqdm.notebook import tqdm\n",
    "import numpy as np\n",
    "import tensorflow as tf"
   ]
  },
  {
   "cell_type": "code",
   "execution_count": 19,
   "id": "dea1e036-e924-4675-9e09-c94b52e4e60c",
   "metadata": {},
   "outputs": [],
   "source": [
    "def save_predictions(model, X_train, y_train, X_test, y_test):\n",
    "    output_directory = os.path.join(MODELS_DIRECTORY, source, dataset, signal, model.model_name)\n",
    "    y_hat, critic = model.predict(X_train, y_train)\n",
    "    with open(os.path.join(output_directory, 'y_hat_train.npy'), 'wb') as f:\n",
    "        np.save(f, y_hat)\n",
    "    with open(os.path.join(output_directory, 'critic_train.npy'), 'wb') as f:\n",
    "        np.save(f, critic)\n",
    "              \n",
    "    y_hat, critic = model.predict(X_test, y_test)\n",
    "    with open(os.path.join(output_directory, 'y_hat_test.npy'), 'wb') as f:\n",
    "        np.save(f, y_hat)\n",
    "    with open(os.path.join(output_directory, 'critic_test.npy'), 'wb') as f:\n",
    "        np.save(f, critic)"
   ]
  },
  {
   "cell_type": "code",
   "execution_count": 20,
   "id": "6f7e4a42-2089-488c-a923-f26b81bbf65e",
   "metadata": {},
   "outputs": [],
   "source": [
    "def train(source, dataset, signal, univariate=True):\n",
    "    anomaly_dataset = AnomalyDataset.load(source, dataset, signal)\n",
    "    X_train, y_train = anomaly_dataset.train.X, anomaly_dataset.train.y\n",
    "    X_test, y_test = anomaly_dataset.test.X, anomaly_dataset.test.y\n",
    "    \n",
    "    if univariate:\n",
    "        X_train = y_train\n",
    "        X_test = y_test\n",
    "    \n",
    "    tadgan_model = TadGAN(\n",
    "        input_shape=X_train[0].shape, \n",
    "        target_shape=y_train[0].shape,\n",
    "    )\n",
    "    if univariate:\n",
    "        tadgan_model.model_name = 'univariate_tadgan'\n",
    "    tadgan_model.fit(X_train, y_train, print_logs=False)\n",
    "    tadgan_model.save(source, dataset, signal)\n",
    "    save_predictions(tadgan_model, X_train, y_train, X_test, y_test)\n",
    "    tf.keras.backend.clear_session()\n",
    "\n",
    "\n",
    "    attention_tadgan_model = AttentionTadGAN(\n",
    "        input_shape=X_train[0].shape, \n",
    "        target_shape=y_train[0].shape,\n",
    "        num_heads=1,\n",
    "    )\n",
    "    if univariate:\n",
    "        attention_tadgan_model.model_name = 'univariate_attention_tadgan'\n",
    "    attention_tadgan_model.fit(X_train, y_train, print_logs=False)\n",
    "    attention_tadgan_model.save(source, dataset, signal)\n",
    "    save_predictions(attention_tadgan_model, X_train, y_train, X_test, y_test)\n",
    "    tf.keras.backend.clear_session()"
   ]
  },
  {
   "cell_type": "code",
   "execution_count": 27,
   "id": "7cac722d-55ed-4a2d-a39c-f15dd10eb877",
   "metadata": {},
   "outputs": [
    {
     "data": {
      "text/plain": [
       "['T-3', 'E-13', 'P-2', 'R-1']"
      ]
     },
     "execution_count": 27,
     "metadata": {},
     "output_type": "execute_result"
    }
   ],
   "source": [
    "source = 'NASA'\n",
    "dataset = 'SMAP'\n",
    "signals = AnomalyDataset.get_signals(source, dataset)\n",
    "signals = signals[50:]\n",
    "signals"
   ]
  },
  {
   "cell_type": "code",
   "execution_count": 28,
   "id": "716a611d-50b9-4def-ad59-784355637c08",
   "metadata": {},
   "outputs": [
    {
     "name": "stderr",
     "output_type": "stream",
     "text": [
      "100%|██████████████████████████████████████████████████████████████████████████████████████████████████████████████████████████████████████████| 70/70 [13:10<00:00, 11.30s/it]\n",
      "100%|██████████████████████████████████████████████████████████████████████████████████████████████████████████████████████████████████████████| 70/70 [06:39<00:00,  5.70s/it]\n"
     ]
    },
    {
     "name": "stdout",
     "output_type": "stream",
     "text": [
      "[NASA][SMAP][T-3][Done]\n"
     ]
    },
    {
     "name": "stderr",
     "output_type": "stream",
     "text": [
      "100%|████████████████████████████████████████████████████████████████████████████████████████████████████████████████████████████████████████| 70/70 [1:27:23<00:00, 74.91s/it]\n",
      "100%|██████████████████████████████████████████████████████████████████████████████████████████████████████████████████████████████████████████| 70/70 [06:58<00:00,  5.97s/it]\n"
     ]
    },
    {
     "name": "stdout",
     "output_type": "stream",
     "text": [
      "[NASA][SMAP][E-13][Done]\n"
     ]
    },
    {
     "name": "stderr",
     "output_type": "stream",
     "text": [
      "100%|██████████████████████████████████████████████████████████████████████████████████████████████████████████████████████████████████████████| 70/70 [14:08<00:00, 12.13s/it]\n",
      "100%|██████████████████████████████████████████████████████████████████████████████████████████████████████████████████████████████████████████| 70/70 [07:42<00:00,  6.60s/it]\n"
     ]
    },
    {
     "name": "stdout",
     "output_type": "stream",
     "text": [
      "[NASA][SMAP][P-2][Done]\n"
     ]
    },
    {
     "name": "stderr",
     "output_type": "stream",
     "text": [
      "100%|██████████████████████████████████████████████████████████████████████████████████████████████████████████████████████████████████████████| 70/70 [12:44<00:00, 10.92s/it]\n",
      "100%|██████████████████████████████████████████████████████████████████████████████████████████████████████████████████████████████████████████| 70/70 [06:45<00:00,  5.79s/it]\n"
     ]
    },
    {
     "name": "stdout",
     "output_type": "stream",
     "text": [
      "[NASA][SMAP][R-1][Done]\n"
     ]
    }
   ],
   "source": [
    "for signal in signals:\n",
    "    try:\n",
    "        train(source, dataset, signal)\n",
    "        print(f'[{source}][{dataset}][{signal}][Done]')\n",
    "    except Exception as e:\n",
    "        print(f'[{source}][{dataset}][{signal}][{e}]')"
   ]
  },
  {
   "cell_type": "code",
   "execution_count": null,
   "id": "1a1dd041-81b1-43a6-b96b-0a7b1d3ad251",
   "metadata": {},
   "outputs": [
    {
     "name": "stderr",
     "output_type": "stream",
     "text": [
      "100%|██████████████████████████████████████████████████████████████████████████████████████████████████████████████████████████████████████████| 70/70 [11:31<00:00,  9.88s/it]\n",
      "100%|██████████████████████████████████████████████████████████████████████████████████████████████████████████████████████████████████████████| 70/70 [06:32<00:00,  5.61s/it]\n"
     ]
    },
    {
     "name": "stdout",
     "output_type": "stream",
     "text": [
      "[NASA][MSL][M-5][Done]\n"
     ]
    },
    {
     "name": "stderr",
     "output_type": "stream",
     "text": [
      "100%|██████████████████████████████████████████████████████████████████████████████████████████████████████████████████████████████████████████| 70/70 [15:09<00:00, 12.99s/it]\n",
      " 54%|██████████████████████████████████████████████████████████████████████████▉                                                               | 38/70 [04:10<03:14,  6.07s/it]"
     ]
    }
   ],
   "source": [
    "source = 'NASA'\n",
    "dataset = 'MSL'\n",
    "signals = AnomalyDataset.get_signals(source, dataset)\n",
    "\n",
    "for signal in signals:\n",
    "    try:\n",
    "        train(source, dataset, signal)\n",
    "        print(f'[{source}][{dataset}][{signal}][Done]')\n",
    "    except Exception as e:\n",
    "        print(f'[{source}][{dataset}][{signal}][{e}]')"
   ]
  },
  {
   "cell_type": "code",
   "execution_count": null,
   "id": "cdb698a7-7f39-4688-a0e8-6098fe316bc0",
   "metadata": {},
   "outputs": [],
   "source": []
  }
 ],
 "metadata": {
  "kernelspec": {
   "display_name": "Python 3 (ipykernel)",
   "language": "python",
   "name": "python3"
  },
  "language_info": {
   "codemirror_mode": {
    "name": "ipython",
    "version": 3
   },
   "file_extension": ".py",
   "mimetype": "text/x-python",
   "name": "python",
   "nbconvert_exporter": "python",
   "pygments_lexer": "ipython3",
   "version": "3.7.11"
  }
 },
 "nbformat": 4,
 "nbformat_minor": 5
}
