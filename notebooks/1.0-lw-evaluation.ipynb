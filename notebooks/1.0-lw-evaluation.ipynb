{
 "cells": [
  {
   "cell_type": "code",
   "execution_count": 19,
   "id": "4db1c86a-4bb3-4e09-b7fd-e860ff069091",
   "metadata": {},
   "outputs": [],
   "source": [
    "import pandas as pd\n",
    "\n",
    "from orion.data import load_signal\n",
    "from orion import Orion\n",
    "from orion.data import load_anomalies\n",
    "\n",
    "from mlprimitives.custom.timeseries_preprocessing import time_segments_aggregate\n",
    "from sklearn.impute import SimpleImputer\n",
    "from sklearn.preprocessing import MinMaxScaler\n",
    "from mlprimitives.custom.timeseries_preprocessing import rolling_window_sequences\n",
    "from orion.primitives.timeseries_preprocessing import slice_array_by_dims\n",
    "from mlprimitives import load_primitive\n",
    "\n",
    "from orion.evaluation.contextual import contextual_f1_score\n",
    "import numpy as np\n",
    "import pickle\n",
    "\n",
    "import os, sys\n",
    "sys.path.append(os.path.dirname(os.path.abspath(os.getcwd())))\n",
    "\n",
    "from src.configuration.constants import *"
   ]
  },
  {
   "cell_type": "code",
   "execution_count": 7,
   "id": "93f91ca0-a824-4b91-84e5-5af6213ed733",
   "metadata": {},
   "outputs": [
    {
     "data": {
      "text/plain": [
       "dict_keys(['X_test', 'y_test', 'index_test', 'y_hat', 'critic'])"
      ]
     },
     "execution_count": 7,
     "metadata": {},
     "output_type": "execute_result"
    }
   ],
   "source": [
    "with open(os.path.join(PROCESSED_DATA_DIRECTORY, 'output.pickle'), 'rb') as f:\n",
    "    output = pickle.load(f)\n",
    "    \n",
    "output.keys()"
   ]
  },
  {
   "cell_type": "code",
   "execution_count": 20,
   "id": "d67fb59f-0dc7-4289-8d06-be9efd6c3c37",
   "metadata": {},
   "outputs": [],
   "source": [
    "with open(os.path.join(INTERIM_DATA_DIRECTORY, 'MSL.pickle'), 'rb') as f:\n",
    "    test = pickle.load(f)"
   ]
  },
  {
   "cell_type": "code",
   "execution_count": 35,
   "id": "cb6c3f90-896c-4a09-96a9-f52cfba5e8f4",
   "metadata": {},
   "outputs": [],
   "source": [
    "ground_truth = test['anomaly'][test['anomaly'].signal=='M-1'][['start', 'end']]"
   ]
  },
  {
   "cell_type": "code",
   "execution_count": 9,
   "id": "461ac680-bc5a-45f0-8d31-b3eaabb97387",
   "metadata": {},
   "outputs": [],
   "source": [
    "y = output['y_test']\n",
    "index = output['index_test']\n",
    "\n",
    "critic = output['critic']\n",
    "y_hat = output['y_hat']"
   ]
  },
  {
   "cell_type": "code",
   "execution_count": 10,
   "id": "6892a41c-9f98-45c1-9065-53735c71bfa8",
   "metadata": {},
   "outputs": [
    {
     "name": "stderr",
     "output_type": "stream",
     "text": [
      "Using TensorFlow backend.\n"
     ]
    },
    {
     "data": {
      "text/plain": [
       "((2276,), (2177,))"
      ]
     },
     "execution_count": 10,
     "metadata": {},
     "output_type": "execute_result"
    }
   ],
   "source": [
    "# computes an array of anomaly scores based on a combination of reconstruction error and critic output\n",
    "params = {\"rec_error_type\": \"dtw\"}\n",
    "\n",
    "primitive = load_primitive(\"orion.primitives.tadgan.score_anomalies\", \n",
    "                           arguments=params)\n",
    "errors, true_index, true, predictions = primitive.produce(y=y, y_hat=y_hat, critic=critic, index=index)\n",
    "\n",
    "errors.shape, true_index.shape"
   ]
  },
  {
   "cell_type": "code",
   "execution_count": 11,
   "id": "023f4100-1771-4798-8aff-a9f00802e9c3",
   "metadata": {},
   "outputs": [
    {
     "name": "stdout",
     "output_type": "stream",
     "text": [
      "average error value: 2.86\n"
     ]
    }
   ],
   "source": [
    "print(\"average error value: {:.2f}\".format(errors.mean()))"
   ]
  },
  {
   "cell_type": "code",
   "execution_count": 46,
   "id": "0be22dc2-48dc-4c82-8fe2-cfa0a55fc0a2",
   "metadata": {},
   "outputs": [
    {
     "data": {
      "text/plain": [
       "(3, 3)"
      ]
     },
     "execution_count": 46,
     "metadata": {},
     "output_type": "execute_result"
    }
   ],
   "source": [
    "# extracts anomalies from sequences of errors following the approach\n",
    "params = {\n",
    "    \"window_size_portion\": 0.05, \n",
    "    \"window_step_size_portion\": 0.1,\n",
    "    \"fixed_threshold\": True\n",
    "}\n",
    "\n",
    "primitive = load_primitive(\"orion.primitives.timeseries_anomalies.find_anomalies\", \n",
    "                           arguments=params)\n",
    "e = primitive.produce(errors=errors, index=true_index)\n",
    "\n",
    "e.shape"
   ]
  },
  {
   "cell_type": "code",
   "execution_count": 47,
   "id": "8de11be6-4b37-4258-bbe8-f5f742ef1932",
   "metadata": {},
   "outputs": [],
   "source": [
    "anomalies = [(int(i[0]), int(i[1])) for i in e]"
   ]
  },
  {
   "cell_type": "code",
   "execution_count": 48,
   "id": "27272a12-35c7-436c-9784-66f426368b9d",
   "metadata": {},
   "outputs": [
    {
     "data": {
      "text/plain": [
       "0.07721423164269492"
      ]
     },
     "execution_count": 48,
     "metadata": {},
     "output_type": "execute_result"
    }
   ],
   "source": [
    "start, end = index[0], index[-1]\n",
    "contextual_f1_score(ground_truth, anomalies, start=start, end=end, weighted=True)"
   ]
  },
  {
   "cell_type": "code",
   "execution_count": 49,
   "id": "0966fe08-c86c-4242-b793-8a28f30ca43a",
   "metadata": {},
   "outputs": [
    {
     "data": {
      "text/html": [
       "<div>\n",
       "<style scoped>\n",
       "    .dataframe tbody tr th:only-of-type {\n",
       "        vertical-align: middle;\n",
       "    }\n",
       "\n",
       "    .dataframe tbody tr th {\n",
       "        vertical-align: top;\n",
       "    }\n",
       "\n",
       "    .dataframe thead th {\n",
       "        text-align: right;\n",
       "    }\n",
       "</style>\n",
       "<table border=\"1\" class=\"dataframe\">\n",
       "  <thead>\n",
       "    <tr style=\"text-align: right;\">\n",
       "      <th></th>\n",
       "      <th>start</th>\n",
       "      <th>end</th>\n",
       "    </tr>\n",
       "  </thead>\n",
       "  <tbody>\n",
       "    <tr>\n",
       "      <th>0</th>\n",
       "      <td>1110</td>\n",
       "      <td>2250</td>\n",
       "    </tr>\n",
       "  </tbody>\n",
       "</table>\n",
       "</div>"
      ],
      "text/plain": [
       "   start   end\n",
       "0   1110  2250"
      ]
     },
     "execution_count": 49,
     "metadata": {},
     "output_type": "execute_result"
    }
   ],
   "source": [
    "ground_truth"
   ]
  },
  {
   "cell_type": "code",
   "execution_count": 50,
   "id": "c8841ce9-ff19-429c-bc99-f327ed204668",
   "metadata": {},
   "outputs": [
    {
     "data": {
      "text/plain": [
       "[(132, 195), (265, 329), (1272, 1322)]"
      ]
     },
     "execution_count": 50,
     "metadata": {},
     "output_type": "execute_result"
    }
   ],
   "source": [
    "anomalies"
   ]
  },
  {
   "cell_type": "code",
   "execution_count": null,
   "id": "c087ef71-9a51-49e0-b05c-7b71ff2842ba",
   "metadata": {},
   "outputs": [],
   "source": []
  }
 ],
 "metadata": {
  "kernelspec": {
   "display_name": "Python 3 (ipykernel)",
   "language": "python",
   "name": "python3"
  },
  "language_info": {
   "codemirror_mode": {
    "name": "ipython",
    "version": 3
   },
   "file_extension": ".py",
   "mimetype": "text/x-python",
   "name": "python",
   "nbconvert_exporter": "python",
   "pygments_lexer": "ipython3",
   "version": "3.7.11"
  }
 },
 "nbformat": 4,
 "nbformat_minor": 5
}
